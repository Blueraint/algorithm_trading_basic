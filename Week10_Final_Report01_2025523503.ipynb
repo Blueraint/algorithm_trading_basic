{
  "cells": [
    {
      "cell_type": "code",
      "execution_count": 1,
      "metadata": {
        "colab": {
          "base_uri": "https://localhost:8080/"
        },
        "id": "HP9xePQL7xLU",
        "outputId": "1d326078-da04-41f2-9362-afbe292278ad"
      },
      "outputs": [
        {
          "name": "stdout",
          "output_type": "stream",
          "text": [
            "Requirement already satisfied: finterstellar in c:\\programdata\\anaconda3\\lib\\site-packages (0.3.2)\n",
            "Requirement already satisfied: lxml>=4.2.6 in c:\\programdata\\anaconda3\\lib\\site-packages (from finterstellar) (5.2.1)\n",
            "Requirement already satisfied: numpy>=1.19.3 in c:\\programdata\\anaconda3\\lib\\site-packages (from finterstellar) (1.26.4)\n",
            "Requirement already satisfied: pandas>=1.1.4 in c:\\programdata\\anaconda3\\lib\\site-packages (from finterstellar) (2.2.2)\n",
            "Requirement already satisfied: requests>=2.23.0 in c:\\programdata\\anaconda3\\lib\\site-packages (from finterstellar) (2.32.4)\n",
            "Requirement already satisfied: matplotlib>=3.8.3 in c:\\programdata\\anaconda3\\lib\\site-packages (from finterstellar) (3.9.2)\n",
            "Requirement already satisfied: contourpy>=1.0.1 in c:\\programdata\\anaconda3\\lib\\site-packages (from matplotlib>=3.8.3->finterstellar) (1.2.0)\n",
            "Requirement already satisfied: cycler>=0.10 in c:\\programdata\\anaconda3\\lib\\site-packages (from matplotlib>=3.8.3->finterstellar) (0.11.0)\n",
            "Requirement already satisfied: fonttools>=4.22.0 in c:\\programdata\\anaconda3\\lib\\site-packages (from matplotlib>=3.8.3->finterstellar) (4.51.0)\n",
            "Requirement already satisfied: kiwisolver>=1.3.1 in c:\\programdata\\anaconda3\\lib\\site-packages (from matplotlib>=3.8.3->finterstellar) (1.4.4)\n",
            "Requirement already satisfied: packaging>=20.0 in c:\\programdata\\anaconda3\\lib\\site-packages (from matplotlib>=3.8.3->finterstellar) (24.1)\n",
            "Requirement already satisfied: pillow>=8 in c:\\programdata\\anaconda3\\lib\\site-packages (from matplotlib>=3.8.3->finterstellar) (10.4.0)\n",
            "Requirement already satisfied: pyparsing>=2.3.1 in c:\\programdata\\anaconda3\\lib\\site-packages (from matplotlib>=3.8.3->finterstellar) (3.1.2)\n",
            "Requirement already satisfied: python-dateutil>=2.7 in c:\\programdata\\anaconda3\\lib\\site-packages (from matplotlib>=3.8.3->finterstellar) (2.9.0.post0)\n",
            "Requirement already satisfied: pytz>=2020.1 in c:\\programdata\\anaconda3\\lib\\site-packages (from pandas>=1.1.4->finterstellar) (2024.1)\n",
            "Requirement already satisfied: tzdata>=2022.7 in c:\\programdata\\anaconda3\\lib\\site-packages (from pandas>=1.1.4->finterstellar) (2023.3)\n",
            "Requirement already satisfied: charset_normalizer<4,>=2 in c:\\programdata\\anaconda3\\lib\\site-packages (from requests>=2.23.0->finterstellar) (3.3.2)\n",
            "Requirement already satisfied: idna<4,>=2.5 in c:\\programdata\\anaconda3\\lib\\site-packages (from requests>=2.23.0->finterstellar) (3.7)\n",
            "Requirement already satisfied: urllib3<3,>=1.21.1 in c:\\programdata\\anaconda3\\lib\\site-packages (from requests>=2.23.0->finterstellar) (2.5.0)\n",
            "Requirement already satisfied: certifi>=2017.4.17 in c:\\programdata\\anaconda3\\lib\\site-packages (from requests>=2.23.0->finterstellar) (2025.6.15)\n",
            "Requirement already satisfied: six>=1.5 in c:\\programdata\\anaconda3\\lib\\site-packages (from python-dateutil>=2.7->matplotlib>=3.8.3->finterstellar) (1.16.0)\n"
          ]
        }
      ],
      "source": [
        "!pip install finterstellar"
      ]
    },
    {
      "cell_type": "code",
      "execution_count": 2,
      "metadata": {
        "id": "Dlf5nY6D71r1"
      },
      "outputs": [],
      "source": [
        "# Import library\n",
        "import finterstellar as fs\n",
        "#System trading Library 설치: Finterstellar\n",
        "\n",
        "import io, sys\n",
        "import numpy as np\n",
        "import pandas as pd\n",
        "import matplotlib.pyplot as plt\n"
      ]
    },
    {
      "cell_type": "code",
      "execution_count": 3,
      "metadata": {
        "id": "KV8gwmMmFZ9B"
      },
      "outputs": [],
      "source": [
        "symbol_ = 'TSLA'\n",
        "start_date_ = '2020-06-30'\n",
        "end_date_ = '2025-06-30'\n",
        "fee_ = 0.001"
      ]
    },
    {
      "cell_type": "code",
      "execution_count": 4,
      "metadata": {
        "colab": {
          "base_uri": "https://localhost:8080/"
        },
        "id": "27QZPb_P2nzR",
        "outputId": "2ec2aa00-c9f3-4779-ffb1-1a007f606784"
      },
      "outputs": [
        {
          "name": "stdout",
          "output_type": "stream",
          "text": [
            "rsi 디렉토리가 생성되었거나 이미 존재합니다.\n",
            "macd 디렉토리가 생성되었거나 이미 존재합니다.\n",
            "stochastic 디렉토리가 생성되었거나 이미 존재합니다.\n"
          ]
        }
      ],
      "source": [
        "import os\n",
        "\n",
        "path_list = [\"rsi\",\"macd\",\"stochastic\"]\n",
        "\n",
        "for path in path_list :\n",
        "    try:\n",
        "        os.makedirs(path, exist_ok=True)\n",
        "        print(f\"{path} 디렉토리가 생성되었거나 이미 존재합니다.\")\n",
        "    except OSError as e:\n",
        "        print(f\"디렉토리 생성 중 오류 발생: {e}\")\n"
      ]
    },
    {
      "cell_type": "code",
      "execution_count": 5,
      "metadata": {
        "id": "_Ge4h1QzJGJv"
      },
      "outputs": [],
      "source": [
        "# 1. RSI Performance and evaluation"
      ]
    },
    {
      "cell_type": "code",
      "execution_count": 6,
      "metadata": {
        "id": "YmD-YTEhWxTr"
      },
      "outputs": [],
      "source": [
        "# finstaller.performance 를 dict 로 반환하는 함수\n",
        "\n",
        "import re\n",
        "\n",
        "def parse_performance_output(output_text):\n",
        "    result = {}\n",
        "    for line in output_text.strip().split(\"\\n\"):\n",
        "        # 콜론으로 분리\n",
        "        if \":\" not in line:\n",
        "            continue\n",
        "        key, value = line.split(\":\", 1)\n",
        "        key = key.strip()\n",
        "        value = value.strip()\n",
        "\n",
        "        # 퍼센트 처리\n",
        "        if value.endswith(\"%\"):\n",
        "            num = float(value.strip(\"%\")) / 100\n",
        "            result[key] = num\n",
        "        # 연도 처리\n",
        "        elif value.endswith(\"yrs\"):\n",
        "            num = float(value.strip(\"yrs\"))\n",
        "            result[key] = num\n",
        "        # 숫자 처리\n",
        "        else:\n",
        "            try:\n",
        "                result[key] = float(value)\n",
        "            except ValueError:\n",
        "                result[key] = value  # 혹시 문자열이면 그대로 저장\n",
        "\n",
        "    return result\n",
        "\n",
        "\n",
        "def parse_performance_output(output_text, pre_text):\n",
        "    result = {}\n",
        "    for line in output_text.strip().split(\"\\n\"):\n",
        "        # 콜론으로 분리\n",
        "        if \":\" not in line:\n",
        "            continue\n",
        "        key, value = line.split(\":\", 1)\n",
        "        key = pre_text + \"_\" + key.strip()\n",
        "        value = value.strip()\n",
        "\n",
        "        # 퍼센트 처리\n",
        "        if value.endswith(\"%\"):\n",
        "            num = float(value.strip(\"%\")) / 100\n",
        "            result[key] = num\n",
        "        # 연도 처리\n",
        "        elif value.endswith(\"yrs\"):\n",
        "            num = float(value.strip(\"yrs\"))\n",
        "            result[key] = num\n",
        "        # 숫자 처리\n",
        "        else:\n",
        "            try:\n",
        "                result[key] = float(value)\n",
        "            except ValueError:\n",
        "                result[key] = value  # 혹시 문자열이면 그대로 저장\n",
        "\n",
        "    return result"
      ]
    },
    {
      "cell_type": "code",
      "execution_count": 7,
      "metadata": {
        "id": "vmhMM281SRQ_"
      },
      "outputs": [],
      "source": [
        "# RSI 함수 정의\n",
        "def get_rsi_performance(df, w_, buy_, sell_, fee) :\n",
        "    fs.rsi(df, w=w_)\n",
        "    fs.indicator_to_signal(df, factor='rsi', buy=buy_, sell=sell_)\n",
        "    fs.position(df)\n",
        "\n",
        "    # Position 유효성 검사\n",
        "    if \"position\" not in df :\n",
        "        print(f\"* None of position column as w : {w_}, buy : {buy_}, sell : {sell_}\")\n",
        "\n",
        "\n",
        "    fs.evaluate(df, cost= fee)\n",
        "\n",
        "    # print 값 변수화\n",
        "    capture = io.StringIO()\n",
        "    # stdout 백업\n",
        "    old_stdout = sys.stdout\n",
        "\n",
        "    try:\n",
        "        # stdout을 StringIO로 바꿈\n",
        "        sys.stdout = capture\n",
        "\n",
        "        # 함수 실행 (print만 함)\n",
        "        fs.performance(df, rf_rate=0.02)\n",
        "\n",
        "    finally:\n",
        "        # stdout 복원\n",
        "        sys.stdout = old_stdout\n",
        "\n",
        "    # 캡처된 텍스트\n",
        "    output_text = capture.getvalue()\n",
        "    # performance dict 화\n",
        "    # performance_dict = parse_performance_output(output_text)\n",
        "    performance_dict = parse_performance_output(output_text, 'RSI')\n",
        "\n",
        "    return performance_dict"
      ]
    },
    {
      "cell_type": "code",
      "execution_count": 8,
      "metadata": {
        "id": "PmhBO1bfE7IB"
      },
      "outputs": [],
      "source": [
        "# MACD 함수 정의\n",
        "def get_macd_performance(df, buy_, sell_, fee) :\n",
        "    fs.macd(df)\n",
        "    fs.indicator_to_signal(df, factor='macd', buy=buy_, sell=sell_)\n",
        "    fs.position(df)\n",
        "    fs.evaluate(df, cost= fee)\n",
        "\n",
        "    # print 값 변수화\n",
        "    capture = io.StringIO()\n",
        "    # stdout 백업\n",
        "    old_stdout = sys.stdout\n",
        "\n",
        "    try:\n",
        "        # stdout을 StringIO로 바꿈\n",
        "        sys.stdout = capture\n",
        "\n",
        "        # 함수 실행 (print만 함)\n",
        "        fs.performance(df, rf_rate=0.02)\n",
        "\n",
        "    finally:\n",
        "        # stdout 복원\n",
        "        sys.stdout = old_stdout\n",
        "\n",
        "    # 캡처된 텍스트\n",
        "    output_text = capture.getvalue()\n",
        "    # performance dict 화\n",
        "    # performance_dict = parse_performance_output(output_text)\n",
        "    performance_dict = parse_performance_output(output_text, 'MACD')\n",
        "\n",
        "    return performance_dict"
      ]
    },
    {
      "cell_type": "code",
      "execution_count": 9,
      "metadata": {
        "id": "Bnu3NmCjVgR2"
      },
      "outputs": [],
      "source": [
        "# Stochastics 함수 정의\n",
        "# Stochastics 함수는 w_.값에 factor ('slow_k', 'indicator') 값을 이용한다\n",
        "def get_stochastics_performance(symbol, df, factor_, buy_, sell_, fee_) :\n",
        "    fs.stochastic(df, symbol, n=14, m=3, t=3)\n",
        "    # indicator 값 추출을 위한 전처리 작업\n",
        "    df['indicator'] = df['slow_k'] - df['slow_d']\n",
        "\n",
        "    fs.indicator_to_signal(df, factor= factor_, buy=buy_, sell=sell_)\n",
        "    fs.position(df)\n",
        "    fs.evaluate(df, cost= fee_)\n",
        "\n",
        "    # print 값 변수화\n",
        "    capture = io.StringIO()\n",
        "    # stdout 백업\n",
        "    old_stdout = sys.stdout\n",
        "\n",
        "    try:\n",
        "        # stdout을 StringIO로 바꿈\n",
        "        sys.stdout = capture\n",
        "\n",
        "        # 함수 실행 (print만 함)\n",
        "        fs.performance(df, rf_rate=0.02)\n",
        "\n",
        "    finally:\n",
        "        # stdout 복원\n",
        "        sys.stdout = old_stdout\n",
        "\n",
        "    # 캡처된 텍스트\n",
        "    output_text = capture.getvalue()\n",
        "    # performance dict 화\n",
        "    # performance_dict = parse_performance_output(output_text)\n",
        "    performance_dict = parse_performance_output(output_text, 'Stochastics')\n",
        "\n",
        "    return performance_dict"
      ]
    },
    {
      "cell_type": "code",
      "execution_count": 24,
      "metadata": {
        "id": "C-6Ktcs8XzyP"
      },
      "outputs": [],
      "source": [
        "# 기본 팩터자료 함수 정의\n",
        "# symbol : 주식 약칭명\n",
        "# start_date_ : 시작일자, end_date_ : 종료일자\n",
        "# fee_ : 거래수수료\n",
        "def get_rsi_performance_dataframe(symbol, start_date_, end_date_, fee_) :\n",
        "    # df = fs.get_price(symbol, start_date=start_date_, end_date=end_date_)\n",
        "    df = pd.read_csv(f\"get_price_{symbol}_{start_date_}_to_{end_date_}.csv\", encoding=\"utf8\", index_col=0, parse_dates=True)\n",
        "\n",
        "    print(f\"[ {symbol} ] dataFrame.head \")\n",
        "    print(df.head(3))\n",
        "\n",
        "    results = []\n",
        "    # 최적의 w, buy_position, sell_position 을 찾기 위한 recursive\n",
        "    for w_ in range(7, 23+1) :\n",
        "        for buy_ in range(15, 45+1) :\n",
        "            for sell_ in range(55, 85+1) :\n",
        "                try :\n",
        "                    result_dict = {}\n",
        "\n",
        "                    # 파라미터 추가\n",
        "                    result_dict[\"symbol\"] = symbol\n",
        "                    result_dict[\"w_param\"] = w_\n",
        "                    result_dict[\"buy_param\"] = buy_\n",
        "                    result_dict[\"sell_param\"] = sell_\n",
        "                    result_dict[\"fee_\"] = fee_\n",
        "\n",
        "                    perf = {}\n",
        "\n",
        "                    perf = get_rsi_performance(df, w_, buy_, sell_, fee_)\n",
        "\n",
        "                    result_dict.update(perf)\n",
        "\n",
        "                    # 리스트에 추가\n",
        "                    results.append(result_dict)\n",
        "\n",
        "                    if(len(results) % 50 == 0) :\n",
        "                        print(f\"Performance Processing : [{len(results)}] {result_dict}\")\n",
        "                except Exception as e :\n",
        "                    print(\" !!! Error : \",e)\n",
        "                    continue\n",
        "\n",
        "    df_result = pd.DataFrame(results)\n",
        "    return df_result\n"
      ]
    },
    {
      "cell_type": "code",
      "execution_count": 11,
      "metadata": {
        "id": "vpx4PRmsXzmZ"
      },
      "outputs": [],
      "source": [
        "# 기본 팩터자료 함수 정의\n",
        "# symbol : 주식 약칭명\n",
        "# start_date_ : 시작일자, end_date_ : 종료일자\n",
        "# fee_ : 거래수수료\n",
        "def get_macd_performance_dataframe(symbol, start_date_, end_date_, fee_) :\n",
        "    # df = fs.get_price(symbol, start_date=start_date_, end_date=end_date_)\n",
        "    df = pd.read_csv(f\"get_price_{symbol}_{start_date_}_to_{end_date_}.csv\", encoding=\"utf8\", index_col=0, parse_dates=True)\n",
        "    \n",
        "    print(f\"[ {symbol} ] dataFrame.head \")\n",
        "    print(df.head(3))\n",
        "\n",
        "    results = []\n",
        "    # 최적의 buy_position, sell_position 을 찾기 위한 recursive\n",
        "    for buy_ in range(-10, 10+1) :\n",
        "        for sell_ in range(-10, 10+1) :\n",
        "            try :\n",
        "                result_dict = {}\n",
        "\n",
        "                # 파라미터 추가\n",
        "                result_dict[\"symbol\"] = symbol\n",
        "                result_dict[\"buy_param\"] = buy_\n",
        "                result_dict[\"sell_param\"] = sell_\n",
        "                result_dict[\"fee_\"] = fee_\n",
        "\n",
        "                perf = {}\n",
        "\n",
        "                perf = get_macd_performance(df, buy_, sell_, fee_)\n",
        "\n",
        "                result_dict.update(perf)\n",
        "\n",
        "                # 리스트에 추가\n",
        "                results.append(result_dict)\n",
        "\n",
        "                if(len(results) % 100 == 0) :\n",
        "                    print(f\"Performance Processing : [{len(results)}] {result_dict}\")\n",
        "            except Exception as e :\n",
        "                print(\" !!! Error : \",e)\n",
        "                continue\n",
        "\n",
        "    df_result = pd.DataFrame(results)\n",
        "    return df_result\n"
      ]
    },
    {
      "cell_type": "code",
      "execution_count": 12,
      "metadata": {
        "id": "UukdG58xY4yc"
      },
      "outputs": [],
      "source": [
        "# 기본 팩터자료 함수 정의\n",
        "# symbol : 주식 약칭명\n",
        "# start_date_ : 시작일자, end_date_ : 종료일자\n",
        "# fee_ : 거래수수료\n",
        "def get_stochastic_performance_dataframe(symbol, start_date_, end_date_, fee_) :\n",
        "    # df = fs.get_ohlc(symbol, start_date=start_date_, end_date=end_date_)\n",
        "    df = pd.read_csv(f\"get_ohlc_{symbol}_{start_date_}_to_{end_date_}.csv\", encoding=\"utf8\", index_col=0, parse_dates=True)\n",
        "    \n",
        "    print(f\"[ {symbol} ] dataFrame.head \")\n",
        "    print(df.head(3))\n",
        "\n",
        "    results = []\n",
        "    # 최적의 buy_position, sell_position 을 찾기 위한 recursive\n",
        "    # 1. slow_k\n",
        "    for buy_ in range(10, 40+1) :\n",
        "        for sell_ in range(60, 90+1) :\n",
        "            try :\n",
        "                result_dict = {}\n",
        "\n",
        "                # 파라미터 추가\n",
        "                result_dict[\"symbol\"] = symbol\n",
        "                result_dict[\"factor\"] = \"slow_k\"\n",
        "                result_dict[\"buy_param\"] = buy_\n",
        "                result_dict[\"sell_param\"] = sell_\n",
        "                result_dict[\"fee_\"] = fee_\n",
        "\n",
        "                perf = {}\n",
        "\n",
        "                perf = get_stochastics_performance(symbol, df, \"slow_k\", buy_, sell_, fee_)\n",
        "\n",
        "                result_dict.update(perf)\n",
        "\n",
        "                # 리스트에 추가\n",
        "                results.append(result_dict)\n",
        "                if(len(results) % 500 == 0) :\n",
        "                    print(f\"Performance Processing : [{len(results)}] {result_dict}\")\n",
        "            except Exception as e :\n",
        "                print(\" !!! Error : \",e)\n",
        "                continue\n",
        "\n",
        "\n",
        "    # 2. indicator\n",
        "    for buy_ in range(-10, 10+1) :\n",
        "        for sell_ in range(-10, 10+1) :\n",
        "            try :\n",
        "                result_dict = {}\n",
        "\n",
        "                # 파라미터 추가\n",
        "                result_dict[\"symbol\"] = symbol\n",
        "                result_dict[\"factor\"] = \"indicator\"\n",
        "                result_dict[\"buy_param\"] = buy_\n",
        "                result_dict[\"sell_param\"] = sell_\n",
        "                result_dict[\"fee_\"] = fee_\n",
        "\n",
        "                perf = {}\n",
        "\n",
        "                perf = get_stochastics_performance(symbol, df, \"indicator\", buy_, sell_, fee_)\n",
        "\n",
        "                result_dict.update(perf)\n",
        "\n",
        "                # 리스트에 추가\n",
        "                results.append(result_dict)\n",
        "\n",
        "                if(len(results) % 500 == 0) :\n",
        "                    print(f\"Performance Processing : [{len(results)}] {result_dict}\")\n",
        "            except Exception as e :\n",
        "                print(\" !!! Error : \",e)\n",
        "                continue\n",
        "\n",
        "    df_result = pd.DataFrame(results)\n",
        "\n",
        "    return df_result\n"
      ]
    },
    {
      "cell_type": "code",
      "execution_count": 13,
      "metadata": {
        "id": "DTfDUPHE0E5t"
      },
      "outputs": [],
      "source": [
        "def get_rsi_algorithm_info(symbol, start_date_, end_date_, w_, buy_, sell_, text, fee_) :\n",
        "    # df = fs.get_price(symbol, start_date=start_date_, end_date=end_date_)\n",
        "    df = pd.read_csv(f\"get_price_{symbol}_{start_date_}_to_{end_date_}.csv\", encoding=\"utf8\", index_col=0, parse_dates=True)\n",
        "\n",
        "    # rsi\n",
        "    fs.rsi(df, w=w_)\n",
        "    fs.draw_chart(df, left='rsi', right= symbol)\n",
        "    # 파일로 저장\n",
        "    plt.savefig(f\"./rsi//{symbol}_{text}_price_chart.png\", dpi=300, bbox_inches=\"tight\")\n",
        "    # 리소스 해제\n",
        "    plt.close()\n",
        "\n",
        "    fs.indicator_to_signal(df, factor='rsi', buy=buy_, sell=sell_)\n",
        "    # Calc position\n",
        "    fs.position(df)\n",
        "    fs.draw_chart(df, left='rsi', right='position_chart')\n",
        "    # 파일로 저장\n",
        "    plt.savefig(f\"./rsi/{symbol}_{text}_position_chart.png\", dpi=300, bbox_inches=\"tight\")\n",
        "    # 리소스 해제\n",
        "    plt.close()\n",
        "\n",
        "    # Evalution\n",
        "    fs.evaluate(df, cost= fee_)\n",
        "    fs.draw_chart(df, left='acc_rtn_dp', right=symbol)\n",
        "    # 파일로 저장\n",
        "    plt.savefig(f\"./rsi/{symbol}_{text}_evaluation_chart.png\", dpi=300, bbox_inches=\"tight\")\n",
        "    # 리소스 해제\n",
        "    plt.close()\n",
        "\n",
        "    # get Performance\n",
        "    fs.performance(df, rf_rate=0.02)\n",
        "\n",
        "    fs.draw_trade_results(df)\n",
        "    # 파일로 저장\n",
        "    plt.savefig(f\"./rsi/{symbol}_{text}_trade_result_chart.png\", dpi=300, bbox_inches=\"tight\")\n",
        "    # 리소스 해제\n",
        "    plt.close()"
      ]
    },
    {
      "cell_type": "code",
      "execution_count": 14,
      "metadata": {
        "id": "p4dhxQr5TJUv"
      },
      "outputs": [],
      "source": [
        "def get_macd_algorithm_info(symbol, start_date_, end_date_, buy_, sell_,text,  fee_) :\n",
        "    # df = fs.get_price(symbol, start_date=start_date_, end_date=end_date_)\n",
        "    df = pd.read_csv(f\"get_price_{symbol}_{start_date_}_to_{end_date_}.csv\", encoding=\"utf8\", index_col=0, parse_dates=True)\n",
        "\n",
        "    # macd\n",
        "    fs.macd(df)\n",
        "    fs.draw_chart(df, right=['macd','macd_signal','macd_oscillator'])\n",
        "    # 파일로 저장\n",
        "    plt.savefig(f\"./macd/{symbol}_{text}_price_chart.png\", dpi=300, bbox_inches=\"tight\")\n",
        "    # 리소스 해제\n",
        "    plt.close()\n",
        "\n",
        "    fs.indicator_to_signal(df, factor='macd_oscillator', buy=buy_, sell=sell_)\n",
        "\n",
        "    # Calc position\n",
        "    fs.position(df)\n",
        "    fs.draw_chart(df, right='position_chart', left='macd_oscillator')\n",
        "    # 파일로 저장\n",
        "    plt.savefig(f\"./macd/{symbol}_{text}_position_chart.png\", dpi=300, bbox_inches=\"tight\")\n",
        "    # 리소스 해제\n",
        "    plt.close()\n",
        "\n",
        "\n",
        "    # Evalution\n",
        "    fs.evaluate(df, cost=fee_)\n",
        "    fs.performance(df, rf_rate=0.02)\n",
        "    fs.draw_trade_results(df)\n",
        "    # 파일로 저장\n",
        "    plt.savefig(f\"./macd/{symbol}_{text}_trade_result_chart.png\", dpi=300, bbox_inches=\"tight\")\n",
        "    # 리소스 해제\n",
        "    plt.close()"
      ]
    },
    {
      "cell_type": "code",
      "execution_count": 15,
      "metadata": {
        "id": "6Ytk42MVagEI"
      },
      "outputs": [],
      "source": [
        "def get_stochastic_algorithm_info(symbol, start_date_, end_date_, factor_, buy_, sell_,text, fee_) :\n",
        "    # df = fs.get_ohlc(symbol, start_date=start_date_, end_date=end_date_)\n",
        "    df = pd.read_csv(f\"get_ohlc_{symbol}_{start_date_}_to_{end_date_}.csv\", encoding=\"utf8\", index_col=0, parse_dates=True)\n",
        "\n",
        "    # stochastic\n",
        "    fs.stochastic(df, symbol, n=14, m=3, t=3)\n",
        "    df['indicator'] = df['slow_k'] - df['slow_d']\n",
        "    fs.draw_chart(df, left=factor_, right=symbol)\n",
        "    # 파일로 저장\n",
        "    plt.savefig(f\"./stochastic/{symbol}_{text}_price_chart.png\", dpi=300, bbox_inches=\"tight\")\n",
        "    # 리소스 해제\n",
        "    plt.close()\n",
        "\n",
        "    fs.indicator_to_signal(df, factor=factor_, buy=buy_, sell=sell_)\n",
        "\n",
        "    # Calc position\n",
        "    fs.position(df)\n",
        "    fs.draw_chart(df, right='position_chart', left='slow_k')\n",
        "    # # 파일로 저장\n",
        "    plt.savefig(f\"./stochastic/{symbol}_{text}_position_chart.png\", dpi=300, bbox_inches=\"tight\")\n",
        "    # # 리소스 해제\n",
        "    # plt.close()\n",
        "\n",
        "\n",
        "    # Evalution\n",
        "    fs.evaluate(df, cost=fee_)\n",
        "    fs.performance(df, rf_rate=0.02)\n",
        "    fs.draw_trade_results(df)\n",
        "    # 파일로 저장\n",
        "    plt.savefig(f\"./stochastic/{symbol}_{text}_trade_result_chart.png\", dpi=300, bbox_inches=\"tight\")\n",
        "    # 리소스 해제\n",
        "    plt.close()"
      ]
    },
    {
      "cell_type": "code",
      "execution_count": 16,
      "metadata": {
        "id": "RmEw9-I0IQ6C"
      },
      "outputs": [],
      "source": [
        "# # Max CAGR\n",
        "# df_max_cagr = df_rsi[df_rsi['RSI_CAGR'] == df_rsi['RSI_CAGR'].max()]\n",
        "# df_max_cagr.iloc[0]"
      ]
    },
    {
      "cell_type": "code",
      "execution_count": 17,
      "metadata": {
        "id": "yjFXWomxJBH8"
      },
      "outputs": [],
      "source": [
        "# # Max Sharpe ratio\n",
        "# df_max_sharpe_ratio = df_rsi[df_rsi['RSI_Sharpe ratio'] == df_rsi['RSI_Sharpe ratio'].max()]\n",
        "# df_max_sharpe_ratio.iloc[0]"
      ]
    },
    {
      "cell_type": "code",
      "execution_count": 18,
      "metadata": {
        "id": "PGdz4lKJAdYm"
      },
      "outputs": [],
      "source": [
        "# get_rsi_algorithm_info(df_max_cagr.iloc[0]['symbol'],start_date_,end_date_,df_max_cagr.iloc[0]['w_param'],df_max_cagr.iloc[0]['buy_param'],df_max_cagr.iloc[0]['sell_param'], fee_)"
      ]
    },
    {
      "cell_type": "code",
      "execution_count": 19,
      "metadata": {
        "collapsed": true,
        "id": "tJMm3c0nXs38"
      },
      "outputs": [],
      "source": [
        "def process(symbol, start_date_, end_date_, fee_) :\n",
        "    df_rsi = get_rsi_performance_dataframe(symbol, start_date_, end_date_, fee_)\n",
        "    df_macd = get_macd_performance_dataframe(symbol, start_date_, end_date_, fee_)\n",
        "    df_sto = get_stochastic_performance_dataframe(symbol, start_date_, end_date_, fee_)\n",
        "\n",
        "    # write csv\n",
        "    df_rsi.to_csv(f'./rsi/{symbol}_{start_date_}_to_{end_date_}.csv',encoding='utf8', index=False)\n",
        "    df_macd.to_csv(f'./macd/{symbol}_{start_date_}_to_{end_date_}.csv',encoding='utf8', index=False)\n",
        "    df_sto.to_csv(f'./stochastic/{symbol}_{start_date_}_to_{end_date_}.csv',encoding='utf8', index=False)\n",
        "\n",
        "    # find max value\n",
        "    # RSI CAGR\n",
        "    df_rsi_max_cagr = df_rsi[df_rsi['RSI_CAGR'] == df_rsi['RSI_CAGR'].max()].iloc[0]\n",
        "    get_rsi_algorithm_info(df_rsi_max_cagr['symbol'],start_date_,end_date_,df_rsi_max_cagr['w_param'],df_rsi_max_cagr['buy_param'],df_rsi_max_cagr['sell_param'],'CAGR', fee_)\n",
        "\n",
        "    # RSI Sharpe ratio\n",
        "    df_rsi_max_sharpe_ratio = df_rsi[df_rsi['RSI_Sharpe ratio'] == df_rsi['RSI_Sharpe ratio'].max()].iloc[0]\n",
        "    get_rsi_algorithm_info(df_rsi_max_sharpe_ratio['symbol'],start_date_,end_date_,df_rsi_max_sharpe_ratio['w_param'],df_rsi_max_sharpe_ratio['buy_param'],df_rsi_max_sharpe_ratio['sell_param'],'SharpeRatio', fee_)\n",
        "\n",
        "    # MACD CAGR\n",
        "    df_macd_max_cagr = df_macd[df_macd['MACD_CAGR'] == df_macd['MACD_CAGR'].max()].iloc[0]\n",
        "    get_macd_algorithm_info(df_macd_max_cagr['symbol'],start_date_,end_date_,df_macd_max_cagr['buy_param'],df_macd_max_cagr['sell_param'],'CAGR', fee_)\n",
        "\n",
        "    # MACD Sharpe ratio\n",
        "    df_macd_max_sharpe_ratio = df_macd[df_macd['MACD_Sharpe ratio'] == df_macd['MACD_Sharpe ratio'].max()].iloc[0]\n",
        "    get_macd_algorithm_info(df_macd_max_sharpe_ratio['symbol'],start_date_,end_date_,df_macd_max_sharpe_ratio['buy_param'],df_macd_max_sharpe_ratio['sell_param'],'SharpeRatio', fee_)\n",
        "\n",
        "    # Stochastic CAGR\n",
        "    df_sto_max_cagr = df_sto[df_sto['Stochastics_CAGR'] == df_sto['Stochastics_CAGR'].max()].iloc[0]\n",
        "    get_stochastic_algorithm_info(df_sto_max_cagr['symbol'],start_date_,end_date_,df_sto_max_cagr['factor'],df_sto_max_cagr['buy_param'],df_sto_max_cagr['sell_param'],'CAGR', fee_)\n",
        "\n",
        "    # Stochastic Sharpe ratio\n",
        "    df_sto_max_sharpe_ratio = df_sto[df_sto['Stochastics_Sharpe ratio'] == df_sto['Stochastics_Sharpe ratio'].max()].iloc[0]\n",
        "    get_stochastic_algorithm_info(df_sto_max_sharpe_ratio['symbol'],start_date_,end_date_,df_sto_max_sharpe_ratio['factor'],df_sto_max_sharpe_ratio['buy_param'],df_sto_max_sharpe_ratio['sell_param'],'SharpeRatio', fee_)\n",
        "\n",
        "    # return max value\n",
        "    return df_rsi_max_cagr, df_rsi_max_sharpe_ratio, df_macd_max_cagr, df_macd_max_sharpe_ratio, df_sto_max_cagr, df_sto_max_sharpe_ratio"
      ]
    },
    {
      "cell_type": "code",
      "execution_count": 20,
      "metadata": {
        "id": "bubkxg7aPeYH"
      },
      "outputs": [],
      "source": [
        "symbol_list = ['^GSPC', '^KS11','MSFT', 'GOOG', 'AMZN', 'META', 'NVDA', 'TSLA', 'AAPL']"
      ]
    },
    {
      "cell_type": "code",
      "execution_count": 25,
      "metadata": {
        "colab": {
          "base_uri": "https://localhost:8080/",
          "height": 745
        },
        "id": "2LTRre0GT1h6",
        "outputId": "2c1863a4-09b6-48ae-cb89-f39d3de5e149"
      },
      "outputs": [
        {
          "name": "stdout",
          "output_type": "stream",
          "text": [
            "[ ^GSPC ] dataFrame.head \n",
            "              ^GSPC\n",
            "2020-06-30 3,100.29\n",
            "2020-07-01 3,115.86\n",
            "2020-07-02 3,130.01\n",
            "Performance Processing : [50] {'symbol': '^GSPC', 'w_param': 7, 'buy_param': 16, 'sell_param': 73, 'fee_': 0.001, 'RSI_CAGR': 0.044000000000000004, 'RSI_Accumulated return': 0.1784, 'RSI_Average return': 0.0572, 'RSI_Benchmark return': 0.3746, 'RSI_Number of trades': 3.0, 'RSI_Number of win': 3.0, 'RSI_Hit ratio': 1.0, 'RSI_Investment period': 3.8, 'RSI_Sharpe ratio': 0.25, 'RSI_MDD': -0.09119999999999999, 'RSI_Benchmark MDD': -0.25429999999999997}\n",
            "Performance Processing : [100] {'symbol': '^GSPC', 'w_param': 7, 'buy_param': 18, 'sell_param': 61, 'fee_': 0.001, 'RSI_CAGR': 0.0326, 'RSI_Accumulated return': 0.08779999999999999, 'RSI_Average return': 0.08779999999999999, 'RSI_Benchmark return': 0.5545, 'RSI_Number of trades': 1.0, 'RSI_Number of win': 1.0, 'RSI_Hit ratio': 1.0, 'RSI_Investment period': 2.6, 'RSI_Sharpe ratio': 0.15, 'RSI_MDD': -0.0547, 'RSI_Benchmark MDD': -0.18899999999999997}\n",
            "Performance Processing : [150] {'symbol': '^GSPC', 'w_param': 7, 'buy_param': 19, 'sell_param': 80, 'fee_': 0.001, 'RSI_CAGR': 0.0495, 'RSI_Accumulated return': 0.071, 'RSI_Average return': 0.0354, 'RSI_Benchmark return': 0.2591, 'RSI_Number of trades': 2.0, 'RSI_Number of win': 2.0, 'RSI_Hit ratio': 1.0, 'RSI_Investment period': 1.4, 'RSI_Sharpe ratio': 0.18, 'RSI_MDD': -0.1632, 'RSI_Benchmark MDD': -0.18899999999999997}\n",
            "Performance Processing : [200] {'symbol': '^GSPC', 'w_param': 7, 'buy_param': 21, 'sell_param': 68, 'fee_': 0.001, 'RSI_CAGR': 0.0, 'RSI_Accumulated return': 0.0, 'RSI_Average return': nan, 'RSI_Benchmark return': 0.1371, 'RSI_Number of trades': 0.0, 'RSI_Number of win': 0.0, 'RSI_Hit ratio': 0.0, 'RSI_Investment period': 0.2, 'RSI_Sharpe ratio': 0.0, 'RSI_MDD': 0.0, 'RSI_Benchmark MDD': -0.0904}\n",
            "Performance Processing : [250] {'symbol': '^GSPC', 'w_param': 7, 'buy_param': 23, 'sell_param': 56, 'fee_': 0.001, 'RSI_CAGR': 0.0, 'RSI_Accumulated return': 0.0, 'RSI_Average return': nan, 'RSI_Benchmark return': 0.0052, 'RSI_Number of trades': 0.0, 'RSI_Number of win': 0.0, 'RSI_Hit ratio': 0.0, 'RSI_Investment period': 0.0, 'RSI_Sharpe ratio': 0.0, 'RSI_MDD': 0.0, 'RSI_Benchmark MDD': 0.0}\n",
            "Performance Processing : [300] {'symbol': '^GSPC', 'w_param': 7, 'buy_param': 24, 'sell_param': 75, 'fee_': 0.001, 'RSI_CAGR': 0.0, 'RSI_Accumulated return': 0.0, 'RSI_Average return': nan, 'RSI_Benchmark return': 0.0052, 'RSI_Number of trades': 0.0, 'RSI_Number of win': 0.0, 'RSI_Hit ratio': 0.0, 'RSI_Investment period': 0.0, 'RSI_Sharpe ratio': 0.0, 'RSI_MDD': 0.0, 'RSI_Benchmark MDD': 0.0}\n",
            "Performance Processing : [350] {'symbol': '^GSPC', 'w_param': 7, 'buy_param': 26, 'sell_param': 63, 'fee_': 0.001, 'RSI_CAGR': 0.0, 'RSI_Accumulated return': 0.0, 'RSI_Average return': nan, 'RSI_Benchmark return': 0.0052, 'RSI_Number of trades': 0.0, 'RSI_Number of win': 0.0, 'RSI_Hit ratio': 0.0, 'RSI_Investment period': 0.0, 'RSI_Sharpe ratio': 0.0, 'RSI_MDD': 0.0, 'RSI_Benchmark MDD': 0.0}\n",
            "Performance Processing : [400] {'symbol': '^GSPC', 'w_param': 7, 'buy_param': 27, 'sell_param': 82, 'fee_': 0.001, 'RSI_CAGR': 0.0, 'RSI_Accumulated return': 0.0, 'RSI_Average return': nan, 'RSI_Benchmark return': 0.0052, 'RSI_Number of trades': 0.0, 'RSI_Number of win': 0.0, 'RSI_Hit ratio': 0.0, 'RSI_Investment period': 0.0, 'RSI_Sharpe ratio': 0.0, 'RSI_MDD': 0.0, 'RSI_Benchmark MDD': 0.0}\n",
            "Performance Processing : [450] {'symbol': '^GSPC', 'w_param': 7, 'buy_param': 29, 'sell_param': 70, 'fee_': 0.001, 'RSI_CAGR': 0.0, 'RSI_Accumulated return': 0.0, 'RSI_Average return': nan, 'RSI_Benchmark return': 0.0052, 'RSI_Number of trades': 0.0, 'RSI_Number of win': 0.0, 'RSI_Hit ratio': 0.0, 'RSI_Investment period': 0.0, 'RSI_Sharpe ratio': 0.0, 'RSI_MDD': 0.0, 'RSI_Benchmark MDD': 0.0}\n",
            "Performance Processing : [500] {'symbol': '^GSPC', 'w_param': 7, 'buy_param': 31, 'sell_param': 58, 'fee_': 0.001, 'RSI_CAGR': 0.0, 'RSI_Accumulated return': 0.0, 'RSI_Average return': nan, 'RSI_Benchmark return': 0.0052, 'RSI_Number of trades': 0.0, 'RSI_Number of win': 0.0, 'RSI_Hit ratio': 0.0, 'RSI_Investment period': 0.0, 'RSI_Sharpe ratio': 0.0, 'RSI_MDD': 0.0, 'RSI_Benchmark MDD': 0.0}\n",
            "Performance Processing : [550] {'symbol': '^GSPC', 'w_param': 7, 'buy_param': 32, 'sell_param': 77, 'fee_': 0.001, 'RSI_CAGR': 0.0, 'RSI_Accumulated return': 0.0, 'RSI_Average return': nan, 'RSI_Benchmark return': 0.0052, 'RSI_Number of trades': 0.0, 'RSI_Number of win': 0.0, 'RSI_Hit ratio': 0.0, 'RSI_Investment period': 0.0, 'RSI_Sharpe ratio': 0.0, 'RSI_MDD': 0.0, 'RSI_Benchmark MDD': 0.0}\n",
            "Performance Processing : [600] {'symbol': '^GSPC', 'w_param': 7, 'buy_param': 34, 'sell_param': 65, 'fee_': 0.001, 'RSI_CAGR': 0.0, 'RSI_Accumulated return': 0.0, 'RSI_Average return': nan, 'RSI_Benchmark return': 0.0052, 'RSI_Number of trades': 0.0, 'RSI_Number of win': 0.0, 'RSI_Hit ratio': 0.0, 'RSI_Investment period': 0.0, 'RSI_Sharpe ratio': 0.0, 'RSI_MDD': 0.0, 'RSI_Benchmark MDD': 0.0}\n",
            "Performance Processing : [650] {'symbol': '^GSPC', 'w_param': 7, 'buy_param': 35, 'sell_param': 84, 'fee_': 0.001, 'RSI_CAGR': 0.0, 'RSI_Accumulated return': 0.0, 'RSI_Average return': nan, 'RSI_Benchmark return': 0.0052, 'RSI_Number of trades': 0.0, 'RSI_Number of win': 0.0, 'RSI_Hit ratio': 0.0, 'RSI_Investment period': 0.0, 'RSI_Sharpe ratio': 0.0, 'RSI_MDD': 0.0, 'RSI_Benchmark MDD': 0.0}\n",
            "Performance Processing : [700] {'symbol': '^GSPC', 'w_param': 7, 'buy_param': 37, 'sell_param': 72, 'fee_': 0.001, 'RSI_CAGR': 0.0, 'RSI_Accumulated return': 0.0, 'RSI_Average return': nan, 'RSI_Benchmark return': 0.0052, 'RSI_Number of trades': 0.0, 'RSI_Number of win': 0.0, 'RSI_Hit ratio': 0.0, 'RSI_Investment period': 0.0, 'RSI_Sharpe ratio': 0.0, 'RSI_MDD': 0.0, 'RSI_Benchmark MDD': 0.0}\n",
            "Performance Processing : [750] {'symbol': '^GSPC', 'w_param': 7, 'buy_param': 39, 'sell_param': 60, 'fee_': 0.001, 'RSI_CAGR': 0.0, 'RSI_Accumulated return': 0.0, 'RSI_Average return': nan, 'RSI_Benchmark return': 0.0052, 'RSI_Number of trades': 0.0, 'RSI_Number of win': 0.0, 'RSI_Hit ratio': 0.0, 'RSI_Investment period': 0.0, 'RSI_Sharpe ratio': 0.0, 'RSI_MDD': 0.0, 'RSI_Benchmark MDD': 0.0}\n",
            "Performance Processing : [800] {'symbol': '^GSPC', 'w_param': 7, 'buy_param': 40, 'sell_param': 79, 'fee_': 0.001, 'RSI_CAGR': 0.0, 'RSI_Accumulated return': 0.0, 'RSI_Average return': nan, 'RSI_Benchmark return': 0.0052, 'RSI_Number of trades': 0.0, 'RSI_Number of win': 0.0, 'RSI_Hit ratio': 0.0, 'RSI_Investment period': 0.0, 'RSI_Sharpe ratio': 0.0, 'RSI_MDD': 0.0, 'RSI_Benchmark MDD': 0.0}\n",
            "Performance Processing : [850] {'symbol': '^GSPC', 'w_param': 7, 'buy_param': 42, 'sell_param': 67, 'fee_': 0.001, 'RSI_CAGR': 0.0, 'RSI_Accumulated return': 0.0, 'RSI_Average return': nan, 'RSI_Benchmark return': 0.0052, 'RSI_Number of trades': 0.0, 'RSI_Number of win': 0.0, 'RSI_Hit ratio': 0.0, 'RSI_Investment period': 0.0, 'RSI_Sharpe ratio': 0.0, 'RSI_MDD': 0.0, 'RSI_Benchmark MDD': 0.0}\n",
            "Performance Processing : [900] {'symbol': '^GSPC', 'w_param': 7, 'buy_param': 44, 'sell_param': 55, 'fee_': 0.001, 'RSI_CAGR': 0.0, 'RSI_Accumulated return': 0.0, 'RSI_Average return': nan, 'RSI_Benchmark return': 0.0052, 'RSI_Number of trades': 0.0, 'RSI_Number of win': 0.0, 'RSI_Hit ratio': 0.0, 'RSI_Investment period': 0.0, 'RSI_Sharpe ratio': 0.0, 'RSI_MDD': 0.0, 'RSI_Benchmark MDD': 0.0}\n",
            "Performance Processing : [950] {'symbol': '^GSPC', 'w_param': 7, 'buy_param': 45, 'sell_param': 74, 'fee_': 0.001, 'RSI_CAGR': 0.0, 'RSI_Accumulated return': 0.0, 'RSI_Average return': nan, 'RSI_Benchmark return': 0.0052, 'RSI_Number of trades': 0.0, 'RSI_Number of win': 0.0, 'RSI_Hit ratio': 0.0, 'RSI_Investment period': 0.0, 'RSI_Sharpe ratio': 0.0, 'RSI_MDD': 0.0, 'RSI_Benchmark MDD': 0.0}\n",
            "Performance Processing : [1000] {'symbol': '^GSPC', 'w_param': 8, 'buy_param': 16, 'sell_param': 62, 'fee_': 0.001, 'RSI_CAGR': 0.0, 'RSI_Accumulated return': 0.0, 'RSI_Average return': nan, 'RSI_Benchmark return': 0.0052, 'RSI_Number of trades': 0.0, 'RSI_Number of win': 0.0, 'RSI_Hit ratio': 0.0, 'RSI_Investment period': 0.0, 'RSI_Sharpe ratio': 0.0, 'RSI_MDD': 0.0, 'RSI_Benchmark MDD': 0.0}\n",
            "Performance Processing : [1050] {'symbol': '^GSPC', 'w_param': 8, 'buy_param': 17, 'sell_param': 81, 'fee_': 0.001, 'RSI_CAGR': 0.0, 'RSI_Accumulated return': 0.0, 'RSI_Average return': nan, 'RSI_Benchmark return': 0.0052, 'RSI_Number of trades': 0.0, 'RSI_Number of win': 0.0, 'RSI_Hit ratio': 0.0, 'RSI_Investment period': 0.0, 'RSI_Sharpe ratio': 0.0, 'RSI_MDD': 0.0, 'RSI_Benchmark MDD': 0.0}\n",
            "Performance Processing : [1100] {'symbol': '^GSPC', 'w_param': 8, 'buy_param': 19, 'sell_param': 69, 'fee_': 0.001, 'RSI_CAGR': 0.0, 'RSI_Accumulated return': 0.0, 'RSI_Average return': nan, 'RSI_Benchmark return': 0.0052, 'RSI_Number of trades': 0.0, 'RSI_Number of win': 0.0, 'RSI_Hit ratio': 0.0, 'RSI_Investment period': 0.0, 'RSI_Sharpe ratio': 0.0, 'RSI_MDD': 0.0, 'RSI_Benchmark MDD': 0.0}\n",
            "Performance Processing : [1150] {'symbol': '^GSPC', 'w_param': 8, 'buy_param': 21, 'sell_param': 57, 'fee_': 0.001, 'RSI_CAGR': 0.0, 'RSI_Accumulated return': 0.0, 'RSI_Average return': nan, 'RSI_Benchmark return': 0.0052, 'RSI_Number of trades': 0.0, 'RSI_Number of win': 0.0, 'RSI_Hit ratio': 0.0, 'RSI_Investment period': 0.0, 'RSI_Sharpe ratio': 0.0, 'RSI_MDD': 0.0, 'RSI_Benchmark MDD': 0.0}\n",
            "Performance Processing : [1200] {'symbol': '^GSPC', 'w_param': 8, 'buy_param': 22, 'sell_param': 76, 'fee_': 0.001, 'RSI_CAGR': 0.0, 'RSI_Accumulated return': 0.0, 'RSI_Average return': nan, 'RSI_Benchmark return': 0.0052, 'RSI_Number of trades': 0.0, 'RSI_Number of win': 0.0, 'RSI_Hit ratio': 0.0, 'RSI_Investment period': 0.0, 'RSI_Sharpe ratio': 0.0, 'RSI_MDD': 0.0, 'RSI_Benchmark MDD': 0.0}\n",
            "Performance Processing : [1250] {'symbol': '^GSPC', 'w_param': 8, 'buy_param': 24, 'sell_param': 64, 'fee_': 0.001, 'RSI_CAGR': 0.0, 'RSI_Accumulated return': 0.0, 'RSI_Average return': nan, 'RSI_Benchmark return': 0.0052, 'RSI_Number of trades': 0.0, 'RSI_Number of win': 0.0, 'RSI_Hit ratio': 0.0, 'RSI_Investment period': 0.0, 'RSI_Sharpe ratio': 0.0, 'RSI_MDD': 0.0, 'RSI_Benchmark MDD': 0.0}\n",
            "Performance Processing : [1300] {'symbol': '^GSPC', 'w_param': 8, 'buy_param': 25, 'sell_param': 83, 'fee_': 0.001, 'RSI_CAGR': 0.0, 'RSI_Accumulated return': 0.0, 'RSI_Average return': nan, 'RSI_Benchmark return': 0.0052, 'RSI_Number of trades': 0.0, 'RSI_Number of win': 0.0, 'RSI_Hit ratio': 0.0, 'RSI_Investment period': 0.0, 'RSI_Sharpe ratio': 0.0, 'RSI_MDD': 0.0, 'RSI_Benchmark MDD': 0.0}\n",
            "Performance Processing : [1350] {'symbol': '^GSPC', 'w_param': 8, 'buy_param': 27, 'sell_param': 71, 'fee_': 0.001, 'RSI_CAGR': 0.0, 'RSI_Accumulated return': 0.0, 'RSI_Average return': nan, 'RSI_Benchmark return': 0.0052, 'RSI_Number of trades': 0.0, 'RSI_Number of win': 0.0, 'RSI_Hit ratio': 0.0, 'RSI_Investment period': 0.0, 'RSI_Sharpe ratio': 0.0, 'RSI_MDD': 0.0, 'RSI_Benchmark MDD': 0.0}\n",
            "Performance Processing : [1400] {'symbol': '^GSPC', 'w_param': 8, 'buy_param': 29, 'sell_param': 59, 'fee_': 0.001, 'RSI_CAGR': 0.0, 'RSI_Accumulated return': 0.0, 'RSI_Average return': nan, 'RSI_Benchmark return': 0.0052, 'RSI_Number of trades': 0.0, 'RSI_Number of win': 0.0, 'RSI_Hit ratio': 0.0, 'RSI_Investment period': 0.0, 'RSI_Sharpe ratio': 0.0, 'RSI_MDD': 0.0, 'RSI_Benchmark MDD': 0.0}\n",
            "Performance Processing : [1450] {'symbol': '^GSPC', 'w_param': 8, 'buy_param': 30, 'sell_param': 78, 'fee_': 0.001, 'RSI_CAGR': 0.0, 'RSI_Accumulated return': 0.0, 'RSI_Average return': nan, 'RSI_Benchmark return': 0.0052, 'RSI_Number of trades': 0.0, 'RSI_Number of win': 0.0, 'RSI_Hit ratio': 0.0, 'RSI_Investment period': 0.0, 'RSI_Sharpe ratio': 0.0, 'RSI_MDD': 0.0, 'RSI_Benchmark MDD': 0.0}\n"
          ]
        },
        {
          "ename": "KeyboardInterrupt",
          "evalue": "",
          "output_type": "error",
          "traceback": [
            "\u001b[1;31m---------------------------------------------------------------------------\u001b[0m",
            "\u001b[1;31mKeyboardInterrupt\u001b[0m                         Traceback (most recent call last)",
            "Cell \u001b[1;32mIn[25], line 4\u001b[0m\n\u001b[0;32m      1\u001b[0m \u001b[38;5;66;03m# for\u001b[39;00m\n\u001b[0;32m      2\u001b[0m \u001b[38;5;28;01mfor\u001b[39;00m symbol \u001b[38;5;129;01min\u001b[39;00m symbol_list :\n\u001b[0;32m      3\u001b[0m     df_rsi_max_cagr, df_rsi_max_sharpe_ratio, df_macd_max_cagr, df_macd_max_sharpe_ratio, df_sto_max_cagr, df_sto_max_sharpe_ratio \\\n\u001b[1;32m----> 4\u001b[0m         \u001b[38;5;241m=\u001b[39m process(symbol, start_date_, end_date_, fee_)\n\u001b[0;32m      6\u001b[0m     \u001b[38;5;28mprint\u001b[39m(\u001b[38;5;124mf\u001b[39m\u001b[38;5;124m\"\u001b[39m\u001b[38;5;124m##### [\u001b[39m\u001b[38;5;132;01m{\u001b[39;00msymbol\u001b[38;5;132;01m}\u001b[39;00m\u001b[38;5;124m] 1. RSI #####\u001b[39m\u001b[38;5;124m\"\u001b[39m)\n\u001b[0;32m      7\u001b[0m     \u001b[38;5;28mprint\u001b[39m(\u001b[38;5;124mf\u001b[39m\u001b[38;5;124m\"\u001b[39m\u001b[38;5;124m   ***** (1) CAGR *****\u001b[39m\u001b[38;5;124m\"\u001b[39m)\n",
            "Cell \u001b[1;32mIn[19], line 2\u001b[0m, in \u001b[0;36mprocess\u001b[1;34m(symbol, start_date_, end_date_, fee_)\u001b[0m\n\u001b[0;32m      1\u001b[0m \u001b[38;5;28;01mdef\u001b[39;00m \u001b[38;5;21mprocess\u001b[39m(symbol, start_date_, end_date_, fee_) :\n\u001b[1;32m----> 2\u001b[0m     df_rsi \u001b[38;5;241m=\u001b[39m get_rsi_performance_dataframe(symbol, start_date_, end_date_, fee_)\n\u001b[0;32m      3\u001b[0m     df_macd \u001b[38;5;241m=\u001b[39m get_macd_performance_dataframe(symbol, start_date_, end_date_, fee_)\n\u001b[0;32m      4\u001b[0m     df_sto \u001b[38;5;241m=\u001b[39m get_stochastic_performance_dataframe(symbol, start_date_, end_date_, fee_)\n",
            "Cell \u001b[1;32mIn[24], line 29\u001b[0m, in \u001b[0;36mget_rsi_performance_dataframe\u001b[1;34m(symbol, start_date_, end_date_, fee_)\u001b[0m\n\u001b[0;32m     25\u001b[0m result_dict[\u001b[38;5;124m\"\u001b[39m\u001b[38;5;124mfee_\u001b[39m\u001b[38;5;124m\"\u001b[39m] \u001b[38;5;241m=\u001b[39m fee_\n\u001b[0;32m     27\u001b[0m perf \u001b[38;5;241m=\u001b[39m {}\n\u001b[1;32m---> 29\u001b[0m perf \u001b[38;5;241m=\u001b[39m get_rsi_performance(df, w_, buy_, sell_, fee_)\n\u001b[0;32m     31\u001b[0m result_dict\u001b[38;5;241m.\u001b[39mupdate(perf)\n\u001b[0;32m     33\u001b[0m \u001b[38;5;66;03m# 리스트에 추가\u001b[39;00m\n",
            "Cell \u001b[1;32mIn[7], line 12\u001b[0m, in \u001b[0;36mget_rsi_performance\u001b[1;34m(df, w_, buy_, sell_, fee)\u001b[0m\n\u001b[0;32m      8\u001b[0m \u001b[38;5;28;01mif\u001b[39;00m \u001b[38;5;124m\"\u001b[39m\u001b[38;5;124mposition\u001b[39m\u001b[38;5;124m\"\u001b[39m \u001b[38;5;129;01mnot\u001b[39;00m \u001b[38;5;129;01min\u001b[39;00m df :\n\u001b[0;32m      9\u001b[0m     \u001b[38;5;28mprint\u001b[39m(\u001b[38;5;124mf\u001b[39m\u001b[38;5;124m\"\u001b[39m\u001b[38;5;124m* None of position column as w : \u001b[39m\u001b[38;5;132;01m{\u001b[39;00mw_\u001b[38;5;132;01m}\u001b[39;00m\u001b[38;5;124m, buy : \u001b[39m\u001b[38;5;132;01m{\u001b[39;00mbuy_\u001b[38;5;132;01m}\u001b[39;00m\u001b[38;5;124m, sell : \u001b[39m\u001b[38;5;132;01m{\u001b[39;00msell_\u001b[38;5;132;01m}\u001b[39;00m\u001b[38;5;124m\"\u001b[39m)\n\u001b[1;32m---> 12\u001b[0m fs\u001b[38;5;241m.\u001b[39mevaluate(df, cost\u001b[38;5;241m=\u001b[39m fee)\n\u001b[0;32m     14\u001b[0m \u001b[38;5;66;03m# print 값 변수화\u001b[39;00m\n\u001b[0;32m     15\u001b[0m capture \u001b[38;5;241m=\u001b[39m io\u001b[38;5;241m.\u001b[39mStringIO()\n",
            "File \u001b[1;32mc:\\ProgramData\\anaconda3\\Lib\\site-packages\\finterstellar\\trading.py:154\u001b[0m, in \u001b[0;36mevaluate\u001b[1;34m(df, cost)\u001b[0m\n\u001b[0;32m    152\u001b[0m df[\u001b[38;5;124m'\u001b[39m\u001b[38;5;124mdaily_rtn\u001b[39m\u001b[38;5;124m'\u001b[39m] \u001b[38;5;241m=\u001b[39m \u001b[38;5;241m1\u001b[39m\n\u001b[0;32m    153\u001b[0m df[\u001b[38;5;124m'\u001b[39m\u001b[38;5;124mdaily_rtn\u001b[39m\u001b[38;5;124m'\u001b[39m]\u001b[38;5;241m.\u001b[39mmask(df[\u001b[38;5;124m'\u001b[39m\u001b[38;5;124mposition\u001b[39m\u001b[38;5;124m'\u001b[39m] \u001b[38;5;241m==\u001b[39m \u001b[38;5;124m'\u001b[39m\u001b[38;5;124mll\u001b[39m\u001b[38;5;124m'\u001b[39m, df[\u001b[38;5;124m'\u001b[39m\u001b[38;5;124msignal_price\u001b[39m\u001b[38;5;124m'\u001b[39m] \u001b[38;5;241m/\u001b[39m df[\u001b[38;5;124m'\u001b[39m\u001b[38;5;124msignal_price\u001b[39m\u001b[38;5;124m'\u001b[39m]\u001b[38;5;241m.\u001b[39mshift(\u001b[38;5;241m1\u001b[39m), inplace\u001b[38;5;241m=\u001b[39m\u001b[38;5;28;01mTrue\u001b[39;00m)\n\u001b[1;32m--> 154\u001b[0m df[\u001b[38;5;124m'\u001b[39m\u001b[38;5;124mdaily_rtn\u001b[39m\u001b[38;5;124m'\u001b[39m]\u001b[38;5;241m.\u001b[39mmask(df[\u001b[38;5;124m'\u001b[39m\u001b[38;5;124mposition\u001b[39m\u001b[38;5;124m'\u001b[39m] \u001b[38;5;241m==\u001b[39m \u001b[38;5;124m'\u001b[39m\u001b[38;5;124mlz\u001b[39m\u001b[38;5;124m'\u001b[39m, (df[\u001b[38;5;124m'\u001b[39m\u001b[38;5;124msignal_price\u001b[39m\u001b[38;5;124m'\u001b[39m]\u001b[38;5;241m*\u001b[39m(\u001b[38;5;241m1\u001b[39m\u001b[38;5;241m-\u001b[39mcost)) \u001b[38;5;241m/\u001b[39m df[\u001b[38;5;124m'\u001b[39m\u001b[38;5;124msignal_price\u001b[39m\u001b[38;5;124m'\u001b[39m]\u001b[38;5;241m.\u001b[39mshift(\u001b[38;5;241m1\u001b[39m), inplace\u001b[38;5;241m=\u001b[39m\u001b[38;5;28;01mTrue\u001b[39;00m)\n\u001b[0;32m    155\u001b[0m df[\u001b[38;5;124m'\u001b[39m\u001b[38;5;124mdaily_rtn\u001b[39m\u001b[38;5;124m'\u001b[39m]\u001b[38;5;241m.\u001b[39mfillna(\u001b[38;5;241m1\u001b[39m, inplace\u001b[38;5;241m=\u001b[39m\u001b[38;5;28;01mTrue\u001b[39;00m)\n\u001b[0;32m    156\u001b[0m df[\u001b[38;5;124m'\u001b[39m\u001b[38;5;124macc_rtn\u001b[39m\u001b[38;5;124m'\u001b[39m] \u001b[38;5;241m=\u001b[39m df[\u001b[38;5;124m'\u001b[39m\u001b[38;5;124mdaily_rtn\u001b[39m\u001b[38;5;124m'\u001b[39m]\u001b[38;5;241m.\u001b[39mcumprod()\n",
            "File \u001b[1;32mc:\\ProgramData\\anaconda3\\Lib\\site-packages\\pandas\\core\\generic.py:11228\u001b[0m, in \u001b[0;36mNDFrame.shift\u001b[1;34m(self, periods, freq, axis, fill_value, suffix)\u001b[0m\n\u001b[0;32m  11226\u001b[0m     axis \u001b[38;5;241m=\u001b[39m \u001b[38;5;28mself\u001b[39m\u001b[38;5;241m.\u001b[39m_get_axis_number(axis)\n\u001b[0;32m  11227\u001b[0m     \u001b[38;5;28;01massert\u001b[39;00m axis \u001b[38;5;241m==\u001b[39m \u001b[38;5;241m0\u001b[39m  \u001b[38;5;66;03m# axis == 1 cases handled in DataFrame.shift\u001b[39;00m\n\u001b[1;32m> 11228\u001b[0m     new_data \u001b[38;5;241m=\u001b[39m \u001b[38;5;28mself\u001b[39m\u001b[38;5;241m.\u001b[39m_mgr\u001b[38;5;241m.\u001b[39mshift(periods\u001b[38;5;241m=\u001b[39mperiods, fill_value\u001b[38;5;241m=\u001b[39mfill_value)\n\u001b[0;32m  11229\u001b[0m     \u001b[38;5;28;01mreturn\u001b[39;00m \u001b[38;5;28mself\u001b[39m\u001b[38;5;241m.\u001b[39m_constructor_from_mgr(\n\u001b[0;32m  11230\u001b[0m         new_data, axes\u001b[38;5;241m=\u001b[39mnew_data\u001b[38;5;241m.\u001b[39maxes\n\u001b[0;32m  11231\u001b[0m     )\u001b[38;5;241m.\u001b[39m__finalize__(\u001b[38;5;28mself\u001b[39m, method\u001b[38;5;241m=\u001b[39m\u001b[38;5;124m\"\u001b[39m\u001b[38;5;124mshift\u001b[39m\u001b[38;5;124m\"\u001b[39m)\n\u001b[0;32m  11233\u001b[0m \u001b[38;5;28;01mreturn\u001b[39;00m \u001b[38;5;28mself\u001b[39m\u001b[38;5;241m.\u001b[39m_shift_with_freq(periods, axis, freq)\n",
            "File \u001b[1;32mc:\\ProgramData\\anaconda3\\Lib\\site-packages\\pandas\\core\\internals\\base.py:312\u001b[0m, in \u001b[0;36mDataManager.shift\u001b[1;34m(self, periods, fill_value)\u001b[0m\n\u001b[0;32m    309\u001b[0m \u001b[38;5;28;01mif\u001b[39;00m fill_value \u001b[38;5;129;01mis\u001b[39;00m lib\u001b[38;5;241m.\u001b[39mno_default:\n\u001b[0;32m    310\u001b[0m     fill_value \u001b[38;5;241m=\u001b[39m \u001b[38;5;28;01mNone\u001b[39;00m\n\u001b[1;32m--> 312\u001b[0m \u001b[38;5;28;01mreturn\u001b[39;00m \u001b[38;5;28mself\u001b[39m\u001b[38;5;241m.\u001b[39mapply_with_block(\u001b[38;5;124m\"\u001b[39m\u001b[38;5;124mshift\u001b[39m\u001b[38;5;124m\"\u001b[39m, periods\u001b[38;5;241m=\u001b[39mperiods, fill_value\u001b[38;5;241m=\u001b[39mfill_value)\n",
            "File \u001b[1;32mc:\\ProgramData\\anaconda3\\Lib\\site-packages\\pandas\\core\\internals\\managers.py:363\u001b[0m, in \u001b[0;36mBaseBlockManager.apply\u001b[1;34m(self, f, align_keys, **kwargs)\u001b[0m\n\u001b[0;32m    361\u001b[0m         applied \u001b[38;5;241m=\u001b[39m b\u001b[38;5;241m.\u001b[39mapply(f, \u001b[38;5;241m*\u001b[39m\u001b[38;5;241m*\u001b[39mkwargs)\n\u001b[0;32m    362\u001b[0m     \u001b[38;5;28;01melse\u001b[39;00m:\n\u001b[1;32m--> 363\u001b[0m         applied \u001b[38;5;241m=\u001b[39m \u001b[38;5;28mgetattr\u001b[39m(b, f)(\u001b[38;5;241m*\u001b[39m\u001b[38;5;241m*\u001b[39mkwargs)\n\u001b[0;32m    364\u001b[0m     result_blocks \u001b[38;5;241m=\u001b[39m extend_blocks(applied, result_blocks)\n\u001b[0;32m    366\u001b[0m out \u001b[38;5;241m=\u001b[39m \u001b[38;5;28mtype\u001b[39m(\u001b[38;5;28mself\u001b[39m)\u001b[38;5;241m.\u001b[39mfrom_blocks(result_blocks, \u001b[38;5;28mself\u001b[39m\u001b[38;5;241m.\u001b[39maxes)\n",
            "File \u001b[1;32mc:\\ProgramData\\anaconda3\\Lib\\site-packages\\pandas\\core\\internals\\blocks.py:1864\u001b[0m, in \u001b[0;36mBlock.shift\u001b[1;34m(self, periods, fill_value)\u001b[0m\n\u001b[0;32m   1862\u001b[0m \u001b[38;5;28;01melse\u001b[39;00m:\n\u001b[0;32m   1863\u001b[0m     values \u001b[38;5;241m=\u001b[39m cast(np\u001b[38;5;241m.\u001b[39mndarray, \u001b[38;5;28mself\u001b[39m\u001b[38;5;241m.\u001b[39mvalues)\n\u001b[1;32m-> 1864\u001b[0m     new_values \u001b[38;5;241m=\u001b[39m shift(values, periods, axis, casted)\n\u001b[0;32m   1865\u001b[0m     \u001b[38;5;28;01mreturn\u001b[39;00m [\u001b[38;5;28mself\u001b[39m\u001b[38;5;241m.\u001b[39mmake_block_same_class(new_values)]\n",
            "File \u001b[1;32mc:\\ProgramData\\anaconda3\\Lib\\site-packages\\pandas\\core\\array_algos\\transforms.py:33\u001b[0m, in \u001b[0;36mshift\u001b[1;34m(values, periods, axis, fill_value)\u001b[0m\n\u001b[0;32m     30\u001b[0m     axis \u001b[38;5;241m=\u001b[39m new_values\u001b[38;5;241m.\u001b[39mndim \u001b[38;5;241m-\u001b[39m axis \u001b[38;5;241m-\u001b[39m \u001b[38;5;241m1\u001b[39m\n\u001b[0;32m     32\u001b[0m \u001b[38;5;28;01mif\u001b[39;00m new_values\u001b[38;5;241m.\u001b[39msize:\n\u001b[1;32m---> 33\u001b[0m     new_values \u001b[38;5;241m=\u001b[39m np\u001b[38;5;241m.\u001b[39mroll(\n\u001b[0;32m     34\u001b[0m         new_values,\n\u001b[0;32m     35\u001b[0m         np\u001b[38;5;241m.\u001b[39mintp(periods),\n\u001b[0;32m     36\u001b[0m         axis\u001b[38;5;241m=\u001b[39maxis,\n\u001b[0;32m     37\u001b[0m     )\n\u001b[0;32m     39\u001b[0m axis_indexer \u001b[38;5;241m=\u001b[39m [\u001b[38;5;28mslice\u001b[39m(\u001b[38;5;28;01mNone\u001b[39;00m)] \u001b[38;5;241m*\u001b[39m values\u001b[38;5;241m.\u001b[39mndim\n\u001b[0;32m     40\u001b[0m \u001b[38;5;28;01mif\u001b[39;00m periods \u001b[38;5;241m>\u001b[39m \u001b[38;5;241m0\u001b[39m:\n",
            "File \u001b[1;32mc:\\ProgramData\\anaconda3\\Lib\\site-packages\\numpy\\core\\numeric.py:1231\u001b[0m, in \u001b[0;36mroll\u001b[1;34m(a, shift, axis)\u001b[0m\n\u001b[0;32m   1229\u001b[0m \u001b[38;5;28;01mfor\u001b[39;00m indices \u001b[38;5;129;01min\u001b[39;00m itertools\u001b[38;5;241m.\u001b[39mproduct(\u001b[38;5;241m*\u001b[39mrolls):\n\u001b[0;32m   1230\u001b[0m     arr_index, res_index \u001b[38;5;241m=\u001b[39m \u001b[38;5;28mzip\u001b[39m(\u001b[38;5;241m*\u001b[39mindices)\n\u001b[1;32m-> 1231\u001b[0m     result[res_index] \u001b[38;5;241m=\u001b[39m a[arr_index]\n\u001b[0;32m   1233\u001b[0m \u001b[38;5;28;01mreturn\u001b[39;00m result\n",
            "\u001b[1;31mKeyboardInterrupt\u001b[0m: "
          ]
        }
      ],
      "source": [
        "# for\n",
        "for symbol in symbol_list :\n",
        "    df_rsi_max_cagr, df_rsi_max_sharpe_ratio, df_macd_max_cagr, df_macd_max_sharpe_ratio, df_sto_max_cagr, df_sto_max_sharpe_ratio \\\n",
        "        = process(symbol, start_date_, end_date_, fee_)\n",
        "\n",
        "    print(f\"##### [{symbol}] 1. RSI #####\")\n",
        "    print(f\"   ***** (1) CAGR *****\")\n",
        "    print(df_rsi_max_cagr)\n",
        "    print(f\"   ***** (2) Sharpe Ratio *****\")\n",
        "    print(df_rsi_max_sharpe_ratio)\n",
        "\n",
        "    print(f\"##### [{symbol}] 2. MACD #####\")\n",
        "    print(f\"   ***** (1) CAGR *****\")\n",
        "    print(df_macd_max_cagr)\n",
        "    print(f\"   ***** (2) Sharpe Ratio *****\")\n",
        "    print(df_macd_max_sharpe_ratio)\n",
        "\n",
        "    print(f\"##### [{symbol}] 3. Stochastic #####\")\n",
        "    print(f\"   ***** (1) CAGR *****\")\n",
        "    print(df_sto_max_cagr)\n",
        "    print(f\"   ***** (2) Sharpe Ratio *****\")\n",
        "    print(df_sto_max_sharpe_ratio)\n",
        "    print(\"\\n\\n\")"
      ]
    },
    {
      "cell_type": "code",
      "execution_count": 51,
      "metadata": {
        "colab": {
          "base_uri": "https://localhost:8080/",
          "height": 356
        },
        "id": "vTK_yjNdZDa2",
        "outputId": "6e9f22ed-65bc-4286-f74e-34f9c3885631"
      },
      "outputs": [
        {
          "ename": "TypeError",
          "evalue": "bad operand type for abs(): 'str'",
          "output_type": "error",
          "traceback": [
            "\u001b[0;31m---------------------------------------------------------------------------\u001b[0m",
            "\u001b[0;31mTypeError\u001b[0m                                 Traceback (most recent call last)",
            "\u001b[0;32m/tmp/ipython-input-51-2724763965.py\u001b[0m in \u001b[0;36m<cell line: 0>\u001b[0;34m()\u001b[0m\n\u001b[1;32m      1\u001b[0m \u001b[0mdf_test\u001b[0m \u001b[0;34m=\u001b[0m \u001b[0mfs\u001b[0m\u001b[0;34m.\u001b[0m\u001b[0mget_price\u001b[0m\u001b[0;34m(\u001b[0m\u001b[0;34m'TSLA'\u001b[0m\u001b[0;34m,\u001b[0m \u001b[0mstart_date\u001b[0m\u001b[0;34m=\u001b[0m\u001b[0mstart_date_\u001b[0m\u001b[0;34m,\u001b[0m \u001b[0mend_date\u001b[0m\u001b[0;34m=\u001b[0m\u001b[0mend_date_\u001b[0m\u001b[0;34m)\u001b[0m\u001b[0;34m\u001b[0m\u001b[0;34m\u001b[0m\u001b[0m\n\u001b[1;32m      2\u001b[0m \u001b[0;34m\u001b[0m\u001b[0m\n\u001b[0;32m----> 3\u001b[0;31m \u001b[0mget_rsi_performance\u001b[0m\u001b[0;34m(\u001b[0m\u001b[0mdf_test\u001b[0m\u001b[0;34m,\u001b[0m\u001b[0;36m7\u001b[0m\u001b[0;34m,\u001b[0m\u001b[0;36m21\u001b[0m\u001b[0;34m,\u001b[0m\u001b[0;36m81\u001b[0m\u001b[0;34m,\u001b[0m \u001b[0;36m0.001\u001b[0m\u001b[0;34m)\u001b[0m\u001b[0;34m\u001b[0m\u001b[0;34m\u001b[0m\u001b[0m\n\u001b[0m\u001b[1;32m      4\u001b[0m \u001b[0;34m\u001b[0m\u001b[0m\n",
            "\u001b[0;32m/tmp/ipython-input-32-2679928699.py\u001b[0m in \u001b[0;36mget_rsi_performance\u001b[0;34m(df, w_, buy_, sell_, fee)\u001b[0m\n\u001b[1;32m      9\u001b[0m         \u001b[0mprint\u001b[0m\u001b[0;34m(\u001b[0m\u001b[0;34mf\"* None of position column as w : {w_}, buy : {buy_}, sell : {sell_}\"\u001b[0m\u001b[0;34m)\u001b[0m\u001b[0;34m\u001b[0m\u001b[0;34m\u001b[0m\u001b[0m\n\u001b[1;32m     10\u001b[0m \u001b[0;34m\u001b[0m\u001b[0m\n\u001b[0;32m---> 11\u001b[0;31m     \u001b[0;32mif\u001b[0m \u001b[0mdf\u001b[0m\u001b[0;34m[\u001b[0m\u001b[0;34m\"position\"\u001b[0m\u001b[0;34m]\u001b[0m\u001b[0;34m.\u001b[0m\u001b[0mabs\u001b[0m\u001b[0;34m(\u001b[0m\u001b[0;34m)\u001b[0m\u001b[0;34m.\u001b[0m\u001b[0msum\u001b[0m\u001b[0;34m(\u001b[0m\u001b[0;34m)\u001b[0m \u001b[0;34m==\u001b[0m \u001b[0;36m0\u001b[0m \u001b[0;34m:\u001b[0m\u001b[0;34m\u001b[0m\u001b[0;34m\u001b[0m\u001b[0m\n\u001b[0m\u001b[1;32m     12\u001b[0m         \u001b[0mprint\u001b[0m\u001b[0;34m(\u001b[0m\u001b[0;34mf\"** No position for as w : {w_}, buy : {buy_}, sell : {sell_}\"\u001b[0m\u001b[0;34m)\u001b[0m\u001b[0;34m\u001b[0m\u001b[0;34m\u001b[0m\u001b[0m\n\u001b[1;32m     13\u001b[0m \u001b[0;34m\u001b[0m\u001b[0m\n",
            "\u001b[0;32m/usr/local/lib/python3.11/dist-packages/pandas/core/generic.py\u001b[0m in \u001b[0;36mabs\u001b[0;34m(self)\u001b[0m\n\u001b[1;32m   1717\u001b[0m         \u001b[0;36m3\u001b[0m    \u001b[0;36m7\u001b[0m   \u001b[0;36m40\u001b[0m  \u001b[0;34m-\u001b[0m\u001b[0;36m50\u001b[0m\u001b[0;34m\u001b[0m\u001b[0;34m\u001b[0m\u001b[0m\n\u001b[1;32m   1718\u001b[0m         \"\"\"\n\u001b[0;32m-> 1719\u001b[0;31m         \u001b[0mres_mgr\u001b[0m \u001b[0;34m=\u001b[0m \u001b[0mself\u001b[0m\u001b[0;34m.\u001b[0m\u001b[0m_mgr\u001b[0m\u001b[0;34m.\u001b[0m\u001b[0mapply\u001b[0m\u001b[0;34m(\u001b[0m\u001b[0mnp\u001b[0m\u001b[0;34m.\u001b[0m\u001b[0mabs\u001b[0m\u001b[0;34m)\u001b[0m\u001b[0;34m\u001b[0m\u001b[0;34m\u001b[0m\u001b[0m\n\u001b[0m\u001b[1;32m   1720\u001b[0m         return self._constructor_from_mgr(res_mgr, axes=res_mgr.axes).__finalize__(\n\u001b[1;32m   1721\u001b[0m             \u001b[0mself\u001b[0m\u001b[0;34m,\u001b[0m \u001b[0mname\u001b[0m\u001b[0;34m=\u001b[0m\u001b[0;34m\"abs\"\u001b[0m\u001b[0;34m\u001b[0m\u001b[0;34m\u001b[0m\u001b[0m\n",
            "\u001b[0;32m/usr/local/lib/python3.11/dist-packages/pandas/core/internals/managers.py\u001b[0m in \u001b[0;36mapply\u001b[0;34m(self, f, align_keys, **kwargs)\u001b[0m\n\u001b[1;32m    359\u001b[0m \u001b[0;34m\u001b[0m\u001b[0m\n\u001b[1;32m    360\u001b[0m             \u001b[0;32mif\u001b[0m \u001b[0mcallable\u001b[0m\u001b[0;34m(\u001b[0m\u001b[0mf\u001b[0m\u001b[0;34m)\u001b[0m\u001b[0;34m:\u001b[0m\u001b[0;34m\u001b[0m\u001b[0;34m\u001b[0m\u001b[0m\n\u001b[0;32m--> 361\u001b[0;31m                 \u001b[0mapplied\u001b[0m \u001b[0;34m=\u001b[0m \u001b[0mb\u001b[0m\u001b[0;34m.\u001b[0m\u001b[0mapply\u001b[0m\u001b[0;34m(\u001b[0m\u001b[0mf\u001b[0m\u001b[0;34m,\u001b[0m \u001b[0;34m**\u001b[0m\u001b[0mkwargs\u001b[0m\u001b[0;34m)\u001b[0m\u001b[0;34m\u001b[0m\u001b[0;34m\u001b[0m\u001b[0m\n\u001b[0m\u001b[1;32m    362\u001b[0m             \u001b[0;32melse\u001b[0m\u001b[0;34m:\u001b[0m\u001b[0;34m\u001b[0m\u001b[0;34m\u001b[0m\u001b[0m\n\u001b[1;32m    363\u001b[0m                 \u001b[0mapplied\u001b[0m \u001b[0;34m=\u001b[0m \u001b[0mgetattr\u001b[0m\u001b[0;34m(\u001b[0m\u001b[0mb\u001b[0m\u001b[0;34m,\u001b[0m \u001b[0mf\u001b[0m\u001b[0;34m)\u001b[0m\u001b[0;34m(\u001b[0m\u001b[0;34m**\u001b[0m\u001b[0mkwargs\u001b[0m\u001b[0;34m)\u001b[0m\u001b[0;34m\u001b[0m\u001b[0;34m\u001b[0m\u001b[0m\n",
            "\u001b[0;32m/usr/local/lib/python3.11/dist-packages/pandas/core/internals/blocks.py\u001b[0m in \u001b[0;36mapply\u001b[0;34m(self, func, **kwargs)\u001b[0m\n\u001b[1;32m    391\u001b[0m         \u001b[0mone\u001b[0m\u001b[0;34m\u001b[0m\u001b[0;34m\u001b[0m\u001b[0m\n\u001b[1;32m    392\u001b[0m         \"\"\"\n\u001b[0;32m--> 393\u001b[0;31m         \u001b[0mresult\u001b[0m \u001b[0;34m=\u001b[0m \u001b[0mfunc\u001b[0m\u001b[0;34m(\u001b[0m\u001b[0mself\u001b[0m\u001b[0;34m.\u001b[0m\u001b[0mvalues\u001b[0m\u001b[0;34m,\u001b[0m \u001b[0;34m**\u001b[0m\u001b[0mkwargs\u001b[0m\u001b[0;34m)\u001b[0m\u001b[0;34m\u001b[0m\u001b[0;34m\u001b[0m\u001b[0m\n\u001b[0m\u001b[1;32m    394\u001b[0m \u001b[0;34m\u001b[0m\u001b[0m\n\u001b[1;32m    395\u001b[0m         \u001b[0mresult\u001b[0m \u001b[0;34m=\u001b[0m \u001b[0mmaybe_coerce_values\u001b[0m\u001b[0;34m(\u001b[0m\u001b[0mresult\u001b[0m\u001b[0;34m)\u001b[0m\u001b[0;34m\u001b[0m\u001b[0;34m\u001b[0m\u001b[0m\n",
            "\u001b[0;31mTypeError\u001b[0m: bad operand type for abs(): 'str'"
          ]
        }
      ],
      "source": [
        "df_test = fs.get_price('TSLA', start_date=start_date_, end_date=end_date_)\n",
        "\n",
        "get_rsi_performance(df_test,7,21,81, 0.001)\n",
        "\n"
      ]
    },
    {
      "cell_type": "code",
      "execution_count": null,
      "metadata": {
        "id": "TdL9y1AfLpVG"
      },
      "outputs": [],
      "source": []
    }
  ],
  "metadata": {
    "colab": {
      "provenance": []
    },
    "kernelspec": {
      "display_name": "base",
      "language": "python",
      "name": "python3"
    },
    "language_info": {
      "codemirror_mode": {
        "name": "ipython",
        "version": 3
      },
      "file_extension": ".py",
      "mimetype": "text/x-python",
      "name": "python",
      "nbconvert_exporter": "python",
      "pygments_lexer": "ipython3",
      "version": "3.12.7"
    }
  },
  "nbformat": 4,
  "nbformat_minor": 0
}
