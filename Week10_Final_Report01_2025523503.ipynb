{
  "cells": [
    {
      "cell_type": "code",
      "execution_count": 1,
      "metadata": {
        "colab": {
          "base_uri": "https://localhost:8080/"
        },
        "id": "HP9xePQL7xLU",
        "outputId": "daf0b42f-cc2b-4a23-9d7b-8dfd4f80223e"
      },
      "outputs": [
        {
          "name": "stdout",
          "output_type": "stream",
          "text": [
            "Requirement already satisfied: finterstellar in c:\\users\\shin\\appdata\\local\\programs\\python\\python313\\lib\\site-packages (0.3.2)\n",
            "Requirement already satisfied: lxml>=4.2.6 in c:\\users\\shin\\appdata\\local\\programs\\python\\python313\\lib\\site-packages (from finterstellar) (6.0.0)\n",
            "Requirement already satisfied: numpy>=1.19.3 in c:\\users\\shin\\appdata\\local\\programs\\python\\python313\\lib\\site-packages (from finterstellar) (2.3.1)\n",
            "Requirement already satisfied: pandas>=1.1.4 in c:\\users\\shin\\appdata\\local\\programs\\python\\python313\\lib\\site-packages (from finterstellar) (2.3.0)\n",
            "Requirement already satisfied: requests>=2.23.0 in c:\\users\\shin\\appdata\\local\\programs\\python\\python313\\lib\\site-packages (from finterstellar) (2.32.4)\n",
            "Requirement already satisfied: matplotlib>=3.8.3 in c:\\users\\shin\\appdata\\local\\programs\\python\\python313\\lib\\site-packages (from finterstellar) (3.10.3)\n",
            "Requirement already satisfied: contourpy>=1.0.1 in c:\\users\\shin\\appdata\\local\\programs\\python\\python313\\lib\\site-packages (from matplotlib>=3.8.3->finterstellar) (1.3.2)\n",
            "Requirement already satisfied: cycler>=0.10 in c:\\users\\shin\\appdata\\local\\programs\\python\\python313\\lib\\site-packages (from matplotlib>=3.8.3->finterstellar) (0.12.1)\n",
            "Requirement already satisfied: fonttools>=4.22.0 in c:\\users\\shin\\appdata\\local\\programs\\python\\python313\\lib\\site-packages (from matplotlib>=3.8.3->finterstellar) (4.58.5)\n",
            "Requirement already satisfied: kiwisolver>=1.3.1 in c:\\users\\shin\\appdata\\local\\programs\\python\\python313\\lib\\site-packages (from matplotlib>=3.8.3->finterstellar) (1.4.8)\n",
            "Requirement already satisfied: packaging>=20.0 in c:\\users\\shin\\appdata\\roaming\\python\\python313\\site-packages (from matplotlib>=3.8.3->finterstellar) (25.0)\n",
            "Requirement already satisfied: pillow>=8 in c:\\users\\shin\\appdata\\local\\programs\\python\\python313\\lib\\site-packages (from matplotlib>=3.8.3->finterstellar) (11.3.0)\n",
            "Requirement already satisfied: pyparsing>=2.3.1 in c:\\users\\shin\\appdata\\local\\programs\\python\\python313\\lib\\site-packages (from matplotlib>=3.8.3->finterstellar) (3.2.3)\n",
            "Requirement already satisfied: python-dateutil>=2.7 in c:\\users\\shin\\appdata\\roaming\\python\\python313\\site-packages (from matplotlib>=3.8.3->finterstellar) (2.9.0.post0)\n",
            "Requirement already satisfied: pytz>=2020.1 in c:\\users\\shin\\appdata\\local\\programs\\python\\python313\\lib\\site-packages (from pandas>=1.1.4->finterstellar) (2025.2)\n",
            "Requirement already satisfied: tzdata>=2022.7 in c:\\users\\shin\\appdata\\local\\programs\\python\\python313\\lib\\site-packages (from pandas>=1.1.4->finterstellar) (2025.2)\n",
            "Requirement already satisfied: six>=1.5 in c:\\users\\shin\\appdata\\roaming\\python\\python313\\site-packages (from python-dateutil>=2.7->matplotlib>=3.8.3->finterstellar) (1.17.0)\n",
            "Requirement already satisfied: charset_normalizer<4,>=2 in c:\\users\\shin\\appdata\\local\\programs\\python\\python313\\lib\\site-packages (from requests>=2.23.0->finterstellar) (3.4.2)\n",
            "Requirement already satisfied: idna<4,>=2.5 in c:\\users\\shin\\appdata\\local\\programs\\python\\python313\\lib\\site-packages (from requests>=2.23.0->finterstellar) (3.10)\n",
            "Requirement already satisfied: urllib3<3,>=1.21.1 in c:\\users\\shin\\appdata\\local\\programs\\python\\python313\\lib\\site-packages (from requests>=2.23.0->finterstellar) (2.4.0)\n",
            "Requirement already satisfied: certifi>=2017.4.17 in c:\\users\\shin\\appdata\\local\\programs\\python\\python313\\lib\\site-packages (from requests>=2.23.0->finterstellar) (2025.6.15)\n"
          ]
        }
      ],
      "source": [
        "!pip install finterstellar"
      ]
    },
    {
      "cell_type": "code",
      "execution_count": 2,
      "metadata": {},
      "outputs": [
        {
          "name": "stdout",
          "output_type": "stream",
          "text": [
            "Requirement already satisfied: joblib in c:\\users\\shin\\appdata\\local\\programs\\python\\python313\\lib\\site-packages (1.5.1)\n",
            "Requirement already satisfied: joblib_progress in c:\\users\\shin\\appdata\\local\\programs\\python\\python313\\lib\\site-packages (1.0.6)\n",
            "Requirement already satisfied: tqdm in c:\\users\\shin\\appdata\\local\\programs\\python\\python313\\lib\\site-packages (4.67.1)\n",
            "Requirement already satisfied: rich in c:\\users\\shin\\appdata\\local\\programs\\python\\python313\\lib\\site-packages (from joblib_progress) (14.0.0)\n",
            "Requirement already satisfied: colorama in c:\\users\\shin\\appdata\\roaming\\python\\python313\\site-packages (from tqdm) (0.4.6)\n",
            "Requirement already satisfied: markdown-it-py>=2.2.0 in c:\\users\\shin\\appdata\\local\\programs\\python\\python313\\lib\\site-packages (from rich->joblib_progress) (3.0.0)\n",
            "Requirement already satisfied: pygments<3.0.0,>=2.13.0 in c:\\users\\shin\\appdata\\roaming\\python\\python313\\site-packages (from rich->joblib_progress) (2.19.2)\n",
            "Requirement already satisfied: mdurl~=0.1 in c:\\users\\shin\\appdata\\local\\programs\\python\\python313\\lib\\site-packages (from markdown-it-py>=2.2.0->rich->joblib_progress) (0.1.2)\n"
          ]
        }
      ],
      "source": [
        "!pip install joblib joblib_progress tqdm"
      ]
    },
    {
      "cell_type": "code",
      "execution_count": 3,
      "metadata": {
        "id": "Dlf5nY6D71r1"
      },
      "outputs": [],
      "source": [
        "# Import library\n",
        "import finterstellar as fs\n",
        "#System trading Library 설치: Finterstellar\n",
        "\n",
        "import io, sys, os\n",
        "import numpy as np\n",
        "import pandas as pd\n",
        "import matplotlib.pyplot as plt\n"
      ]
    },
    {
      "cell_type": "code",
      "execution_count": 4,
      "metadata": {
        "id": "KV8gwmMmFZ9B"
      },
      "outputs": [],
      "source": [
        "symbol_ = 'TSLA'\n",
        "start_date_ = '2020-06-30'\n",
        "end_date_ = '2025-06-30'\n",
        "fee_ = 0.001"
      ]
    },
    {
      "cell_type": "code",
      "execution_count": 5,
      "metadata": {
        "colab": {
          "base_uri": "https://localhost:8080/"
        },
        "id": "27QZPb_P2nzR",
        "outputId": "59828b43-38a7-4166-abfc-3510d5e44632"
      },
      "outputs": [
        {
          "name": "stdout",
          "output_type": "stream",
          "text": [
            "rsi 디렉토리가 생성되었거나 이미 존재합니다.\n",
            "macd 디렉토리가 생성되었거나 이미 존재합니다.\n",
            "stochastic 디렉토리가 생성되었거나 이미 존재합니다.\n"
          ]
        }
      ],
      "source": [
        "path_list = [\"rsi\",\"macd\",\"stochastic\"]\n",
        "\n",
        "for path in path_list :\n",
        "    try:\n",
        "        os.makedirs(path, exist_ok=True)\n",
        "        print(f\"{path} 디렉토리가 생성되었거나 이미 존재합니다.\")\n",
        "    except OSError as e:\n",
        "        print(f\"디렉토리 생성 중 오류 발생: {e}\")\n"
      ]
    },
    {
      "cell_type": "code",
      "execution_count": 6,
      "metadata": {
        "id": "-gVgsROwf2e8"
      },
      "outputs": [],
      "source": [
        "# Performance 문자열을 Parsing 하여 반환하는 함수\n",
        "def parse_performance_output(output_text):\n",
        "    result = {}\n",
        "    for line in output_text.strip().split(\"\\n\"):\n",
        "        # 콜론으로 분리\n",
        "        if \":\" not in line:\n",
        "            continue\n",
        "        key, value = line.split(\":\", 1)\n",
        "        key = key.strip()\n",
        "        value = value.strip()\n",
        "\n",
        "        # 퍼센트 처리\n",
        "        if value.endswith(\"%\"):\n",
        "            num = float(value.strip(\"%\")) / 100\n",
        "            result[key] = num\n",
        "        # 연도 처리\n",
        "        elif value.endswith(\"yrs\"):\n",
        "            num = float(value.strip(\"yrs\"))\n",
        "            result[key] = num\n",
        "        # 숫자 처리\n",
        "        else:\n",
        "            try:\n",
        "                result[key] = float(value)\n",
        "            except ValueError:\n",
        "                result[key] = value  # 혹시 문자열이면 그대로 저장\n",
        "\n",
        "    return result"
      ]
    },
    {
      "cell_type": "code",
      "execution_count": 7,
      "metadata": {
        "id": "_Ge4h1QzJGJv"
      },
      "outputs": [],
      "source": [
        "# 1. RSI Performance and evaluation"
      ]
    },
    {
      "cell_type": "code",
      "execution_count": 8,
      "metadata": {
        "id": "TdL9y1AfLpVG"
      },
      "outputs": [],
      "source": [
        "# RSI 를 구해서 dict 를 반환하는 함수\n",
        "def get_rsi_performance_dict(symbol_, df, params) :\n",
        "    w_, buy_, sell_, fee_ = params\n",
        "\n",
        "    # dataFrame 초기화\n",
        "    df_tmp = df.copy()\n",
        "\n",
        "    result_dict = {}\n",
        "\n",
        "    # 파라미터 추가\n",
        "    result_dict[\"symbol\"] = symbol_\n",
        "    result_dict[\"w_param\"] = w_\n",
        "    result_dict[\"buy_param\"] = buy_\n",
        "    result_dict[\"sell_param\"] = sell_\n",
        "    result_dict[\"fee_\"] = fee_\n",
        "\n",
        "    perf = {}\n",
        "\n",
        "    # RSI 계산, indicator signal 도출, position 계산, 평가 및 performance 측정\n",
        "    fs.rsi(df_tmp, w=w_)\n",
        "    fs.indicator_to_signal(df_tmp, factor='rsi', buy=buy_, sell=sell_)\n",
        "    fs.position(df_tmp)\n",
        "    fs.evaluate(df_tmp, cost= fee_)\n",
        "\n",
        "    # print 값 변수화\n",
        "    capture = io.StringIO()\n",
        "    # stdout 백업\n",
        "    old_stdout = sys.stdout\n",
        "\n",
        "    try:\n",
        "        # stdout을 StringIO로 바꿈\n",
        "        sys.stdout = capture\n",
        "\n",
        "        # Performance 함수 실행 (print만 함)\n",
        "        fs.performance(df_tmp, rf_rate=0.02)\n",
        "\n",
        "    finally:\n",
        "        # stdout 복원\n",
        "        sys.stdout = old_stdout\n",
        "\n",
        "    # 캡처된 텍스트\n",
        "    output_text = capture.getvalue()\n",
        "    # performance dict 화\n",
        "    # performance_dict = parse_performance_output(output_text)\n",
        "    perf = parse_performance_output(output_text)\n",
        "\n",
        "    result_dict.update(perf)\n",
        "\n",
        "    print(f\"Performance Processing : {result_dict}\")\n",
        "\n",
        "    return result_dict"
      ]
    },
    {
      "cell_type": "code",
      "execution_count": 9,
      "metadata": {
        "id": "fgwas-iFXvoQ"
      },
      "outputs": [],
      "source": [
        "# MACD 를 구해서 dict 를 반환하는 함수\n",
        "def get_macd_performance_dict(symbol_, df, params) :\n",
        "    buy_, sell_, fee_ = params\n",
        "\n",
        "    # dataFrame 초기화\n",
        "    df_tmp = df.copy()\n",
        "\n",
        "    result_dict = {}\n",
        "\n",
        "    # 파라미터 추가\n",
        "    result_dict[\"symbol\"] = symbol_\n",
        "    result_dict[\"buy_param\"] = buy_\n",
        "    result_dict[\"sell_param\"] = sell_\n",
        "    result_dict[\"fee_\"] = fee_\n",
        "\n",
        "    perf = {}\n",
        "\n",
        "    # MACD 계산, indicator signal 도출, position 계산, 평가 및 performance 측정\n",
        "    fs.macd(df_tmp)\n",
        "    fs.indicator_to_signal(df_tmp, factor='macd', buy=buy_, sell=sell_)\n",
        "    fs.position(df_tmp)\n",
        "    fs.evaluate(df_tmp, cost= fee_)\n",
        "\n",
        "    # print 값 변수화\n",
        "    capture = io.StringIO()\n",
        "    # stdout 백업\n",
        "    old_stdout = sys.stdout\n",
        "\n",
        "    try:\n",
        "        # stdout을 StringIO로 바꿈\n",
        "        sys.stdout = capture\n",
        "\n",
        "        # Performance 함수 실행 (print만 함)\n",
        "        fs.performance(df_tmp, rf_rate=0.02)\n",
        "\n",
        "    finally:\n",
        "        # stdout 복원\n",
        "        sys.stdout = old_stdout\n",
        "\n",
        "    # 캡처된 텍스트\n",
        "    output_text = capture.getvalue()\n",
        "    # performance dict 화\n",
        "    # performance_dict = parse_performance_output(output_text)\n",
        "    perf = parse_performance_output(output_text)\n",
        "\n",
        "    result_dict.update(perf)\n",
        "\n",
        "    print(f\"Performance Processing : {result_dict}\")\n",
        "\n",
        "    return result_dict"
      ]
    },
    {
      "cell_type": "code",
      "execution_count": 10,
      "metadata": {
        "id": "fl_SjLPtXzvC"
      },
      "outputs": [],
      "source": [
        "# Stochastic 를 구해서 dict 를 반환하는 함수\n",
        "def get_stochastic_performance_dict(symbol_, df, params) :\n",
        "    factor_, buy_, sell_, fee_ = params\n",
        "\n",
        "    # dataFrame 초기화\n",
        "    df_tmp = df.copy()\n",
        "\n",
        "    result_dict = {}\n",
        "\n",
        "    # 파라미터 추가\n",
        "    result_dict[\"symbol\"] = symbol_\n",
        "    result_dict[\"factor\"] = factor_\n",
        "    result_dict[\"buy_param\"] = buy_\n",
        "    result_dict[\"sell_param\"] = sell_\n",
        "    result_dict[\"fee_\"] = fee_\n",
        "\n",
        "    perf = {}\n",
        "\n",
        "    # Stochastic 계산, indicator signal 도출, position 계산, 평가 및 performance 측정\n",
        "    fs.stochastic(df_tmp, symbol_, n=14, m=3, t=3)\n",
        "    # indicator 값 추출을 위한 전처리 작업\n",
        "    df_tmp['indicator'] = df_tmp['slow_k'] - df_tmp['slow_d']\n",
        "\n",
        "    fs.indicator_to_signal(df_tmp, factor= factor_, buy=buy_, sell=sell_)\n",
        "    fs.position(df_tmp)\n",
        "    fs.evaluate(df_tmp, cost= fee_)\n",
        "\n",
        "    # print 값 변수화\n",
        "    capture = io.StringIO()\n",
        "    # stdout 백업\n",
        "    old_stdout = sys.stdout\n",
        "\n",
        "    try:\n",
        "        # stdout을 StringIO로 바꿈\n",
        "        sys.stdout = capture\n",
        "\n",
        "        # Performance 함수 실행 (print만 함)\n",
        "        fs.performance(df_tmp, rf_rate=0.02)\n",
        "\n",
        "    finally:\n",
        "        # stdout 복원\n",
        "        sys.stdout = old_stdout\n",
        "\n",
        "    # 캡처된 텍스트\n",
        "    output_text = capture.getvalue()\n",
        "    # performance dict 화\n",
        "    # performance_dict = parse_performance_output(output_text)\n",
        "    perf = parse_performance_output(output_text)\n",
        "\n",
        "    result_dict.update(perf)\n",
        "\n",
        "    print(f\"Performance Processing : {result_dict}\")\n",
        "\n",
        "\n",
        "    return result_dict"
      ]
    },
    {
      "cell_type": "code",
      "execution_count": 15,
      "metadata": {
        "id": "beoRL34Rh8Uw"
      },
      "outputs": [],
      "source": [
        "# 모든 팩터 집합을 이용해 최적의 RSI Parameter 계산\n",
        "# Parallel 을 이용해서 성능 개선\n",
        "from joblib import Parallel, delayed\n",
        "from tqdm import tqdm\n",
        "\n",
        "def get_rsi_performance_dataframe(symbol, start_date_, end_date_, fee_) :\n",
        "\n",
        "    df = fs.get_price(symbol, start_date=start_date_, end_date=end_date_)\n",
        "    # df = pd.read_csv(f\"get_price_{symbol}_{start_date_}_to_{end_date_}.csv\", encoding=\"utf8\", index_col=0, parse_dates=True)\n",
        "\n",
        "    print(f\"[ {symbol} ] dataFrame.head \")\n",
        "    print(df.head(3))\n",
        "\n",
        "    # Parameter 집합 도출(list)\n",
        "    w_range = range(7,23+1)\n",
        "    buy_range = range(15,45+1)\n",
        "    sell_range = range(55,85+1)\n",
        "    param_list = [(w,buy,sell,fee_) for w in w_range for buy in buy_range for sell in sell_range]\n",
        "\n",
        "    results = []\n",
        "\n",
        "    # 최적의 w, buy_position, sell_position 을 찾기 위한 recursive\n",
        "    # For문 이용\n",
        "    # for w in range(7,23+1)\n",
        "    #   for buy in range(15, 45+1)\n",
        "    #       for sell in range(55,85+1)\n",
        "    #           results.append(get_rsi_performance_dict(df,w,buy,sell,fee_))\n",
        "\n",
        "    # Parallel 이용\n",
        "    results = Parallel(n_jobs=-1, verbose=10, batch_size=100) (\n",
        "            delayed(get_rsi_performance_dict)(symbol, df, params) for params in tqdm(param_list)\n",
        "    )\n",
        "\n",
        "    df_result = pd.DataFrame(results)\n",
        "    return df_result"
      ]
    },
    {
      "cell_type": "code",
      "execution_count": 16,
      "metadata": {
        "id": "WUt1GLbEaR4D"
      },
      "outputs": [],
      "source": [
        "# 모든 팩터 집합을 이용해 최적의 MACD Parameter 계산\n",
        "# Parallel 을 이용해서 성능 개선\n",
        "\n",
        "def get_macd_performance_dataframe(symbol, start_date_, end_date_, fee_) :\n",
        "\n",
        "    df = fs.get_price(symbol, start_date=start_date_, end_date=end_date_)\n",
        "    # df = pd.read_csv(f\"get_price_{symbol}_{start_date_}_to_{end_date_}.csv\", encoding=\"utf8\", index_col=0, parse_dates=True)\n",
        "\n",
        "    print(f\"[ {symbol} ] dataFrame.head \")\n",
        "    print(df.head(3))\n",
        "\n",
        "    # Parameter 집합 도출(list)\n",
        "    buy_range = range(-10,10+1)\n",
        "    sell_range = range(-10,10+1)\n",
        "    param_list = [(buy,sell,fee_) for buy in buy_range for sell in sell_range]\n",
        "\n",
        "    results = []\n",
        "\n",
        "    # 최적의 buy_position, sell_position 을 찾기 위한 recursive\n",
        "    # For문 이용\n",
        "    # for buy in range(-10,10+1)\n",
        "    #    for sell in range(-10,10+1)\n",
        "    #        results.append(get_macd_performance_dict(df,buy,sell,fee_))\n",
        "\n",
        "    # Parallel 이용\n",
        "    results = Parallel(n_jobs=-1, verbose=10, batch_size=50) (\n",
        "            delayed(get_macd_performance_dict)(symbol, df, params) for params in tqdm(param_list)\n",
        "\n",
        "    )\n",
        "\n",
        "    df_result = pd.DataFrame(results)\n",
        "    return df_result"
      ]
    },
    {
      "cell_type": "code",
      "execution_count": 17,
      "metadata": {
        "id": "Odp8-xqLaSmT"
      },
      "outputs": [],
      "source": [
        "# 모든 팩터 집합을 이용해 최적의 Stochastic Parameter 계산\n",
        "# Parallel 을 이용해서 성능 개선\n",
        "\n",
        "def get_stochastic_performance_dataframe(symbol, start_date_, end_date_, fee_) :\n",
        "\n",
        "    df = fs.get_ohlc(symbol, start_date=start_date_, end_date=end_date_)\n",
        "    # df = pd.read_csv(f\"get_ohlc_{symbol}_{start_date_}_to_{end_date_}.csv\", encoding=\"utf8\", index_col=0, parse_dates=True)\n",
        "\n",
        "    print(f\"[ {symbol} ] dataFrame.head \")\n",
        "    print(df.head(3))\n",
        "\n",
        "    # Parameter 집합 도출(list)\n",
        "    factor_list = ['slow_k','indicator']\n",
        "    buy_range = range(10,40+1)\n",
        "    sell_range = range(60,90+1)\n",
        "    param_list = [(factor_,buy,sell,fee_) for factor_ in factor_list for buy in buy_range for sell in sell_range]\n",
        "\n",
        "    results = []\n",
        "\n",
        "    # 최적의 buy_position, sell_position 을 찾기 위한 recursive\n",
        "    # For문 이용\n",
        "    # for factor in factor_list\n",
        "    #   for buy in range(10, 40+1)\n",
        "    #       for sell in range(60,90+1)\n",
        "    #           results.append(get_stochastics_performance_dict(factor,buy,sell,fee_))\n",
        "\n",
        "    # Parallel 이용\n",
        "    results = Parallel(n_jobs=-1, verbose=10, batch_size=50) (\n",
        "            delayed(get_stochastic_performance_dict)(symbol, df, params) for params in tqdm(param_list)\n",
        "    )\n",
        "\n",
        "    df_result = pd.DataFrame(results)\n",
        "    return df_result"
      ]
    },
    {
      "cell_type": "code",
      "execution_count": 18,
      "metadata": {
        "id": "uXnSTn2rjlah"
      },
      "outputs": [],
      "source": [
        "symbol_list = ['^GSPC', '^KS11','MSFT', 'GOOG', 'AMZN', 'META', 'NVDA', 'TSLA', 'AAPL']"
      ]
    },
    {
      "cell_type": "code",
      "execution_count": 19,
      "metadata": {
        "id": "lH5x_lyyjM8u"
      },
      "outputs": [
        {
          "name": "stdout",
          "output_type": "stream",
          "text": [
            "[ ^GSPC ] dataFrame.head \n",
            "              ^GSPC\n",
            "2020-06-30 3,100.29\n",
            "2020-07-01 3,115.86\n",
            "2020-07-02 3,130.01\n"
          ]
        },
        {
          "name": "stderr",
          "output_type": "stream",
          "text": [
            "  0%|          | 0/16337 [00:00<?, ?it/s][Parallel(n_jobs=-1)]: Using backend LokyBackend with 12 concurrent workers.\n",
            "[Parallel(n_jobs=-1)]: Done   2 tasks      | elapsed:   10.2s\n",
            "  0%|          | 24/16337 [00:10<1:56:11,  2.34it/s][Parallel(n_jobs=-1)]: Done  12 tasks      | elapsed:   10.6s\n",
            "[Parallel(n_jobs=-1)]: Done 124 tasks      | elapsed:  3.5min\n",
            "  7%|▋         | 1224/16337 [03:32<43:24,  5.80it/s][Parallel(n_jobs=-1)]: Done 824 tasks      | elapsed:  3.7min\n",
            " 15%|█▍        | 2424/16337 [06:50<38:57,  5.95it/s][Parallel(n_jobs=-1)]: Done 1724 tasks      | elapsed:  6.9min\n",
            " 22%|██▏       | 3624/16337 [10:04<34:56,  6.06it/s][Parallel(n_jobs=-1)]: Done 2624 tasks      | elapsed: 10.1min\n",
            "[Parallel(n_jobs=-1)]: Done 3724 tasks      | elapsed: 13.4min\n",
            " 30%|██▉       | 4824/16337 [13:24<31:48,  6.03it/s][Parallel(n_jobs=-1)]: Done 4824 tasks      | elapsed: 14.1min\n",
            " 37%|███▋      | 6024/16337 [16:35<28:05,  6.12it/s][Parallel(n_jobs=-1)]: Done 6124 tasks      | elapsed: 20.1min\n",
            " 52%|█████▏    | 8424/16337 [23:25<22:00,  5.99it/s][Parallel(n_jobs=-1)]: Done 7424 tasks      | elapsed: 23.4min\n",
            " 59%|█████▉    | 9624/16337 [26:33<18:18,  6.11it/s][Parallel(n_jobs=-1)]: Done 8924 tasks      | elapsed: 26.7min\n",
            " 66%|██████▋   | 10824/16337 [29:36<14:43,  6.24it/s][Parallel(n_jobs=-1)]: Done 10424 tasks      | elapsed: 31.1min\n",
            " 74%|███████▎  | 12024/16337 [32:55<11:37,  6.18it/s][Parallel(n_jobs=-1)]: Done 12124 tasks      | elapsed: 36.2min\n",
            " 88%|████████▊ | 14424/16337 [39:33<05:13,  6.10it/s][Parallel(n_jobs=-1)]: Done 13824 tasks      | elapsed: 40.4min\n",
            "100%|██████████| 16337/16337 [42:52<00:00,  6.35it/s]\n",
            "[Parallel(n_jobs=-1)]: Done 14964 tasks      | elapsed: 43.5min\n",
            "[Parallel(n_jobs=-1)]: Done 15154 tasks      | elapsed: 44.0min\n",
            "[Parallel(n_jobs=-1)]: Done 15734 tasks      | elapsed: 44.4min\n",
            "[Parallel(n_jobs=-1)]: Done 15934 tasks      | elapsed: 44.7min\n",
            "[Parallel(n_jobs=-1)]: Done 16049 tasks      | elapsed: 45.0min\n",
            "[Parallel(n_jobs=-1)]: Done 16164 tasks      | elapsed: 45.3min\n",
            "[Parallel(n_jobs=-1)]: Done 16314 out of 16337 | elapsed: 45.7min remaining:    3.8s\n",
            "[Parallel(n_jobs=-1)]: Done 16337 out of 16337 | elapsed: 45.8min finished\n"
          ]
        },
        {
          "name": "stdout",
          "output_type": "stream",
          "text": [
            "[ ^GSPC ] dataFrame.head \n",
            "              ^GSPC\n",
            "2020-06-30 3,100.29\n",
            "2020-07-01 3,115.86\n",
            "2020-07-02 3,130.01\n"
          ]
        },
        {
          "name": "stderr",
          "output_type": "stream",
          "text": [
            "  0%|          | 0/441 [00:00<?, ?it/s][Parallel(n_jobs=-1)]: Using backend LokyBackend with 12 concurrent workers.\n",
            "[Parallel(n_jobs=-1)]: Done   2 tasks      | elapsed:    0.0s\n",
            "100%|██████████| 441/441 [00:00<00:00, 7977.54it/s]\n",
            "[Parallel(n_jobs=-1)]: Done  12 tasks      | elapsed:    0.0s\n",
            "[Parallel(n_jobs=-1)]: Done  27 tasks      | elapsed:    0.0s\n",
            "[Parallel(n_jobs=-1)]: Done  48 tasks      | elapsed:    0.1s\n",
            "[Parallel(n_jobs=-1)]: Done  75 tasks      | elapsed:    0.2s\n",
            "[Parallel(n_jobs=-1)]: Done 102 tasks      | elapsed:    0.2s\n",
            "[Parallel(n_jobs=-1)]: Done 135 tasks      | elapsed:    0.3s\n",
            "[Parallel(n_jobs=-1)]: Done 168 tasks      | elapsed:    0.4s\n",
            "[Parallel(n_jobs=-1)]: Done 207 tasks      | elapsed:    0.5s\n",
            "[Parallel(n_jobs=-1)]: Done 246 tasks      | elapsed:    0.6s\n",
            "[Parallel(n_jobs=-1)]: Done 291 tasks      | elapsed:    0.8s\n",
            "[Parallel(n_jobs=-1)]: Done 336 tasks      | elapsed:    0.9s\n",
            "[Parallel(n_jobs=-1)]: Done 387 tasks      | elapsed:    1.0s\n",
            "[Parallel(n_jobs=-1)]: Done 441 out of 441 | elapsed:    1.2s finished\n"
          ]
        },
        {
          "name": "stdout",
          "output_type": "stream",
          "text": [
            "[ ^GSPC ] dataFrame.head \n",
            "               Open     High      Low    Close      Volume  Adj Close\n",
            "2020-06-30 3,050.20 3,111.51 3,047.83 3,100.29  4705850000   3,100.29\n",
            "2020-07-01 3,105.92 3,128.44 3,101.17 3,115.86  4449230000   3,115.86\n",
            "2020-07-02 3,143.64 3,165.81 3,124.52 3,130.01  4197720000   3,130.01\n"
          ]
        },
        {
          "name": "stderr",
          "output_type": "stream",
          "text": [
            "  0%|          | 0/1922 [00:00<?, ?it/s][Parallel(n_jobs=-1)]: Using backend LokyBackend with 12 concurrent workers.\n",
            "[Parallel(n_jobs=-1)]: Done   2 tasks      | elapsed:    0.0s\n",
            "[Parallel(n_jobs=-1)]: Done  12 tasks      | elapsed:    0.0s\n",
            "[Parallel(n_jobs=-1)]: Done  74 tasks      | elapsed:    1.5s\n",
            " 32%|███▏      | 624/1922 [00:01<00:03, 395.42it/s][Parallel(n_jobs=-1)]: Done 424 tasks      | elapsed:    1.6s\n",
            " 64%|██████▎   | 1224/1922 [00:03<00:01, 394.51it/s][Parallel(n_jobs=-1)]: Done 874 tasks      | elapsed:    3.1s\n",
            "100%|██████████| 1922/1922 [00:04<00:00, 429.01it/s]\n",
            "[Parallel(n_jobs=-1)]: Done 1275 tasks      | elapsed:    4.4s\n",
            "[Parallel(n_jobs=-1)]: Done 1482 tasks      | elapsed:    4.5s\n",
            "[Parallel(n_jobs=-1)]: Done 1640 tasks      | elapsed:    4.6s\n",
            "[Parallel(n_jobs=-1)]: Done 1702 tasks      | elapsed:    4.6s\n",
            "[Parallel(n_jobs=-1)]: Done 1764 tasks      | elapsed:    4.7s\n",
            "[Parallel(n_jobs=-1)]: Done 1828 tasks      | elapsed:    4.7s\n",
            "[Parallel(n_jobs=-1)]: Done 1843 tasks      | elapsed:    4.8s\n",
            "[Parallel(n_jobs=-1)]: Done 1909 tasks      | elapsed:    4.8s\n",
            "[Parallel(n_jobs=-1)]: Done 1922 out of 1922 | elapsed:    4.8s finished\n"
          ]
        },
        {
          "name": "stdout",
          "output_type": "stream",
          "text": [
            "[ ^KS11 ] dataFrame.head \n",
            "              ^KS11\n",
            "2020-06-30 2,108.33\n",
            "2020-07-01 2,106.70\n",
            "2020-07-02 2,135.37\n"
          ]
        },
        {
          "name": "stderr",
          "output_type": "stream",
          "text": [
            "  0%|          | 0/16337 [00:00<?, ?it/s][Parallel(n_jobs=-1)]: Using backend LokyBackend with 12 concurrent workers.\n",
            "[Parallel(n_jobs=-1)]: Done   2 tasks      | elapsed:    3.6s\n",
            "  0%|          | 24/16337 [00:03<42:08,  6.45it/s][Parallel(n_jobs=-1)]: Done  12 tasks      | elapsed:    3.8s\n",
            "[Parallel(n_jobs=-1)]: Done 124 tasks      | elapsed:  3.1min\n",
            "  7%|▋         | 1224/16337 [03:08<38:47,  6.49it/s][Parallel(n_jobs=-1)]: Done 824 tasks      | elapsed:  3.5min\n",
            " 15%|█▍        | 2424/16337 [06:10<35:23,  6.55it/s][Parallel(n_jobs=-1)]: Done 1724 tasks      | elapsed:  6.3min\n",
            " 22%|██▏       | 3624/16337 [09:10<32:04,  6.60it/s][Parallel(n_jobs=-1)]: Done 2624 tasks      | elapsed:  9.2min\n",
            "[Parallel(n_jobs=-1)]: Done 3724 tasks      | elapsed: 12.2min\n",
            " 30%|██▉       | 4824/16337 [12:13<29:08,  6.58it/s][Parallel(n_jobs=-1)]: Done 4824 tasks      | elapsed: 15.0min\n",
            " 37%|███▋      | 6024/16337 [15:15<26:04,  6.59it/s][Parallel(n_jobs=-1)]: Done 6124 tasks      | elapsed: 18.4min\n",
            " 52%|█████▏    | 8424/16337 [21:38<20:34,  6.41it/s][Parallel(n_jobs=-1)]: Done 7424 tasks      | elapsed: 21.7min\n",
            " 59%|█████▉    | 9624/16337 [25:09<18:09,  6.16it/s][Parallel(n_jobs=-1)]: Done 8924 tasks      | elapsed: 25.4min\n",
            " 66%|██████▋   | 10824/16337 [28:30<15:05,  6.09it/s][Parallel(n_jobs=-1)]: Done 10424 tasks      | elapsed: 30.9min\n",
            " 74%|███████▎  | 12024/16337 [31:51<11:52,  6.06it/s][Parallel(n_jobs=-1)]: Done 12124 tasks      | elapsed: 35.1min\n",
            " 88%|████████▊ | 14424/16337 [38:24<05:14,  6.08it/s][Parallel(n_jobs=-1)]: Done 13824 tasks      | elapsed: 38.9min\n",
            "100%|██████████| 16337/16337 [41:47<00:00,  6.52it/s]\n",
            "[Parallel(n_jobs=-1)]: Done 15059 tasks      | elapsed: 42.4min\n",
            "[Parallel(n_jobs=-1)]: Done 15154 tasks      | elapsed: 43.0min\n",
            "[Parallel(n_jobs=-1)]: Done 15734 tasks      | elapsed: 43.5min\n",
            "[Parallel(n_jobs=-1)]: Done 15934 tasks      | elapsed: 43.8min\n",
            "[Parallel(n_jobs=-1)]: Done 16049 tasks      | elapsed: 44.1min\n",
            "[Parallel(n_jobs=-1)]: Done 16164 tasks      | elapsed: 44.4min\n",
            "[Parallel(n_jobs=-1)]: Done 16337 out of 16337 | elapsed: 44.8min finished\n"
          ]
        },
        {
          "name": "stdout",
          "output_type": "stream",
          "text": [
            "[ ^KS11 ] dataFrame.head \n",
            "              ^KS11\n",
            "2020-06-30 2,108.33\n",
            "2020-07-01 2,106.70\n",
            "2020-07-02 2,135.37\n"
          ]
        },
        {
          "name": "stderr",
          "output_type": "stream",
          "text": [
            "  0%|          | 0/441 [00:00<?, ?it/s][Parallel(n_jobs=-1)]: Using backend LokyBackend with 12 concurrent workers.\n",
            "[Parallel(n_jobs=-1)]: Done   2 tasks      | elapsed:    0.0s\n",
            "100%|██████████| 441/441 [00:00<00:00, 7701.93it/s]\n",
            "[Parallel(n_jobs=-1)]: Done  12 tasks      | elapsed:    0.0s\n",
            "[Parallel(n_jobs=-1)]: Done  27 tasks      | elapsed:    0.0s\n",
            "[Parallel(n_jobs=-1)]: Done  48 tasks      | elapsed:    0.1s\n",
            "[Parallel(n_jobs=-1)]: Done  75 tasks      | elapsed:    0.2s\n",
            "[Parallel(n_jobs=-1)]: Done 102 tasks      | elapsed:    0.2s\n",
            "[Parallel(n_jobs=-1)]: Done 135 tasks      | elapsed:    0.4s\n",
            "[Parallel(n_jobs=-1)]: Done 168 tasks      | elapsed:    0.5s\n",
            "[Parallel(n_jobs=-1)]: Done 207 tasks      | elapsed:    0.6s\n",
            "[Parallel(n_jobs=-1)]: Done 246 tasks      | elapsed:    0.7s\n",
            "[Parallel(n_jobs=-1)]: Done 291 tasks      | elapsed:    0.8s\n",
            "[Parallel(n_jobs=-1)]: Done 336 tasks      | elapsed:    0.9s\n",
            "[Parallel(n_jobs=-1)]: Done 387 tasks      | elapsed:    1.1s\n",
            "[Parallel(n_jobs=-1)]: Done 441 out of 441 | elapsed:    1.2s finished\n"
          ]
        },
        {
          "name": "stdout",
          "output_type": "stream",
          "text": [
            "[ ^KS11 ] dataFrame.head \n",
            "               Open     High      Low    Close   Volume  Adj Close\n",
            "2020-06-30 2,124.38 2,134.38 2,108.26 2,108.33   708600   2,108.33\n",
            "2020-07-01 2,128.81 2,133.55 2,101.33 2,106.70  1116200   2,106.70\n",
            "2020-07-02 2,116.72 2,135.37 2,113.98 2,135.37  1092000   2,135.37\n"
          ]
        },
        {
          "name": "stderr",
          "output_type": "stream",
          "text": [
            "  0%|          | 0/1922 [00:00<?, ?it/s][Parallel(n_jobs=-1)]: Using backend LokyBackend with 12 concurrent workers.\n",
            "[Parallel(n_jobs=-1)]: Done   2 tasks      | elapsed:    0.0s\n",
            "[Parallel(n_jobs=-1)]: Done  12 tasks      | elapsed:    0.0s\n",
            "[Parallel(n_jobs=-1)]: Done  74 tasks      | elapsed:    1.4s\n",
            " 32%|███▏      | 624/1922 [00:01<00:03, 423.67it/s][Parallel(n_jobs=-1)]: Done 424 tasks      | elapsed:    1.6s\n",
            " 64%|██████▎   | 1224/1922 [00:03<00:01, 402.93it/s][Parallel(n_jobs=-1)]: Done 874 tasks      | elapsed:    3.1s\n",
            "100%|██████████| 1922/1922 [00:04<00:00, 444.24it/s]\n",
            "[Parallel(n_jobs=-1)]: Done 1275 tasks      | elapsed:    4.3s\n",
            "[Parallel(n_jobs=-1)]: Done 1384 tasks      | elapsed:    4.4s\n",
            "[Parallel(n_jobs=-1)]: Done 1444 tasks      | elapsed:    4.5s\n",
            "[Parallel(n_jobs=-1)]: Done 1555 tasks      | elapsed:    4.6s\n",
            "[Parallel(n_jobs=-1)]: Done 1568 tasks      | elapsed:    4.7s\n",
            "[Parallel(n_jobs=-1)]: Done 1583 tasks      | elapsed:    4.7s\n",
            "[Parallel(n_jobs=-1)]: Done 1598 tasks      | elapsed:    4.8s\n",
            "[Parallel(n_jobs=-1)]: Done 1664 tasks      | elapsed:    4.9s\n",
            "[Parallel(n_jobs=-1)]: Done 1922 out of 1922 | elapsed:    5.2s finished\n"
          ]
        },
        {
          "name": "stdout",
          "output_type": "stream",
          "text": [
            "[ MSFT ] dataFrame.head \n",
            "             MSFT\n",
            "2020-06-30 194.98\n",
            "2020-07-01 196.12\n",
            "2020-07-02 197.61\n"
          ]
        },
        {
          "name": "stderr",
          "output_type": "stream",
          "text": [
            "  0%|          | 0/16337 [00:00<?, ?it/s][Parallel(n_jobs=-1)]: Using backend LokyBackend with 12 concurrent workers.\n",
            "[Parallel(n_jobs=-1)]: Done   2 tasks      | elapsed:    3.4s\n",
            "  0%|          | 24/16337 [00:03<40:07,  6.77it/s][Parallel(n_jobs=-1)]: Done  12 tasks      | elapsed:    3.7s\n",
            "[Parallel(n_jobs=-1)]: Done 124 tasks      | elapsed:  3.2min\n",
            "  7%|▋         | 1224/16337 [03:12<39:42,  6.34it/s][Parallel(n_jobs=-1)]: Done 824 tasks      | elapsed:  3.7min\n",
            " 15%|█▍        | 2424/16337 [06:19<36:18,  6.39it/s][Parallel(n_jobs=-1)]: Done 1724 tasks      | elapsed:  6.5min\n",
            " 22%|██▏       | 3624/16337 [09:34<33:44,  6.28it/s][Parallel(n_jobs=-1)]: Done 2624 tasks      | elapsed:  9.6min\n",
            "[Parallel(n_jobs=-1)]: Done 3724 tasks      | elapsed: 12.7min\n",
            " 30%|██▉       | 4824/16337 [12:43<30:25,  6.31it/s][Parallel(n_jobs=-1)]: Done 4824 tasks      | elapsed: 15.0min\n",
            " 37%|███▋      | 6024/16337 [15:56<27:22,  6.28it/s][Parallel(n_jobs=-1)]: Done 6124 tasks      | elapsed: 19.1min\n",
            " 52%|█████▏    | 8424/16337 [22:21<21:07,  6.24it/s][Parallel(n_jobs=-1)]: Done 7424 tasks      | elapsed: 22.6min\n",
            " 59%|█████▉    | 9624/16337 [25:36<17:59,  6.22it/s][Parallel(n_jobs=-1)]: Done 8924 tasks      | elapsed: 26.1min\n",
            " 66%|██████▋   | 10824/16337 [28:52<14:51,  6.19it/s][Parallel(n_jobs=-1)]: Done 10424 tasks      | elapsed: 31.6min\n",
            " 74%|███████▎  | 12024/16337 [32:04<11:34,  6.21it/s][Parallel(n_jobs=-1)]: Done 12124 tasks      | elapsed: 35.4min\n",
            " 88%|████████▊ | 14424/16337 [38:50<05:16,  6.05it/s][Parallel(n_jobs=-1)]: Done 13824 tasks      | elapsed: 39.5min\n",
            "100%|██████████| 16337/16337 [42:01<00:00,  6.48it/s]\n",
            "[Parallel(n_jobs=-1)]: Done 14964 tasks      | elapsed: 42.6min\n",
            "[Parallel(n_jobs=-1)]: Done 15154 tasks      | elapsed: 43.2min\n",
            "[Parallel(n_jobs=-1)]: Done 15259 tasks      | elapsed: 43.8min\n",
            "[Parallel(n_jobs=-1)]: Done 15364 tasks      | elapsed: 44.3min\n",
            "[Parallel(n_jobs=-1)]: Done 15764 tasks      | elapsed: 44.9min\n",
            "[Parallel(n_jobs=-1)]: Done 16164 tasks      | elapsed: 45.3min\n",
            "[Parallel(n_jobs=-1)]: Done 16314 out of 16337 | elapsed: 45.7min remaining:    3.8s\n",
            "[Parallel(n_jobs=-1)]: Done 16337 out of 16337 | elapsed: 45.7min finished\n"
          ]
        },
        {
          "name": "stdout",
          "output_type": "stream",
          "text": [
            "[ MSFT ] dataFrame.head \n",
            "             MSFT\n",
            "2020-06-30 194.98\n",
            "2020-07-01 196.12\n",
            "2020-07-02 197.61\n"
          ]
        },
        {
          "name": "stderr",
          "output_type": "stream",
          "text": [
            "  0%|          | 0/441 [00:00<?, ?it/s][Parallel(n_jobs=-1)]: Using backend LokyBackend with 12 concurrent workers.\n",
            "[Parallel(n_jobs=-1)]: Done   2 tasks      | elapsed:    0.0s\n",
            "100%|██████████| 441/441 [00:00<00:00, 8667.46it/s]\n",
            "[Parallel(n_jobs=-1)]: Done  12 tasks      | elapsed:    0.0s\n",
            "[Parallel(n_jobs=-1)]: Done  27 tasks      | elapsed:    0.0s\n",
            "[Parallel(n_jobs=-1)]: Done  48 tasks      | elapsed:    0.1s\n",
            "[Parallel(n_jobs=-1)]: Done  75 tasks      | elapsed:    0.1s\n",
            "[Parallel(n_jobs=-1)]: Done 102 tasks      | elapsed:    0.2s\n",
            "[Parallel(n_jobs=-1)]: Done 135 tasks      | elapsed:    0.3s\n",
            "[Parallel(n_jobs=-1)]: Done 168 tasks      | elapsed:    0.4s\n",
            "[Parallel(n_jobs=-1)]: Done 207 tasks      | elapsed:    0.5s\n",
            "[Parallel(n_jobs=-1)]: Done 246 tasks      | elapsed:    0.6s\n",
            "[Parallel(n_jobs=-1)]: Done 291 tasks      | elapsed:    0.8s\n",
            "[Parallel(n_jobs=-1)]: Done 336 tasks      | elapsed:    0.9s\n",
            "[Parallel(n_jobs=-1)]: Done 387 tasks      | elapsed:    1.1s\n",
            "[Parallel(n_jobs=-1)]: Done 441 out of 441 | elapsed:    1.2s finished\n"
          ]
        },
        {
          "name": "stdout",
          "output_type": "stream",
          "text": [
            "[ MSFT ] dataFrame.head \n",
            "             Open   High    Low  Close    Volume  Adj Close\n",
            "2020-06-30 197.88 204.40 197.74 203.51  34310300     194.98\n",
            "2020-07-01 203.14 206.35 201.77 204.70  32061200     196.12\n",
            "2020-07-02 205.68 208.02 205.00 206.26  29315800     197.61\n"
          ]
        },
        {
          "name": "stderr",
          "output_type": "stream",
          "text": [
            "  0%|          | 0/1922 [00:00<?, ?it/s][Parallel(n_jobs=-1)]: Using backend LokyBackend with 12 concurrent workers.\n",
            "[Parallel(n_jobs=-1)]: Done   2 tasks      | elapsed:    0.0s\n",
            "[Parallel(n_jobs=-1)]: Done  12 tasks      | elapsed:    0.0s\n",
            "[Parallel(n_jobs=-1)]: Done  74 tasks      | elapsed:    1.3s\n",
            " 32%|███▏      | 624/1922 [00:01<00:02, 435.16it/s][Parallel(n_jobs=-1)]: Done 424 tasks      | elapsed:    1.9s\n",
            " 64%|██████▎   | 1224/1922 [00:03<00:01, 393.02it/s][Parallel(n_jobs=-1)]: Done 874 tasks      | elapsed:    3.3s\n",
            "100%|██████████| 1922/1922 [00:04<00:00, 442.54it/s]\n",
            "[Parallel(n_jobs=-1)]: Done 1275 tasks      | elapsed:    4.3s\n",
            "[Parallel(n_jobs=-1)]: Done 1335 tasks      | elapsed:    4.4s\n",
            "[Parallel(n_jobs=-1)]: Done 1395 tasks      | elapsed:    4.6s\n",
            "[Parallel(n_jobs=-1)]: Done 1555 tasks      | elapsed:    4.7s\n",
            "[Parallel(n_jobs=-1)]: Done 1568 tasks      | elapsed:    4.7s\n",
            "[Parallel(n_jobs=-1)]: Done 1583 tasks      | elapsed:    4.8s\n",
            "[Parallel(n_jobs=-1)]: Done 1598 tasks      | elapsed:    4.9s\n",
            "[Parallel(n_jobs=-1)]: Done 1615 tasks      | elapsed:    5.0s\n",
            "[Parallel(n_jobs=-1)]: Done 1922 out of 1922 | elapsed:    5.6s finished\n"
          ]
        },
        {
          "name": "stdout",
          "output_type": "stream",
          "text": [
            "[ GOOG ] dataFrame.head \n",
            "            GOOG\n",
            "2020-06-30 70.26\n",
            "2020-07-01 71.48\n",
            "2020-07-02 72.80\n"
          ]
        },
        {
          "name": "stderr",
          "output_type": "stream",
          "text": [
            "  0%|          | 0/16337 [00:00<?, ?it/s][Parallel(n_jobs=-1)]: Using backend LokyBackend with 12 concurrent workers.\n",
            "[Parallel(n_jobs=-1)]: Done   2 tasks      | elapsed:    3.7s\n",
            "  0%|          | 24/16337 [00:03<43:08,  6.30it/s][Parallel(n_jobs=-1)]: Done  12 tasks      | elapsed:    4.0s\n",
            "[Parallel(n_jobs=-1)]: Done 124 tasks      | elapsed:  3.2min\n",
            "  7%|▋         | 1224/16337 [03:11<39:30,  6.38it/s][Parallel(n_jobs=-1)]: Done 824 tasks      | elapsed:  3.6min\n",
            " 15%|█▍        | 2424/16337 [06:25<36:59,  6.27it/s][Parallel(n_jobs=-1)]: Done 1724 tasks      | elapsed:  6.6min\n",
            " 22%|██▏       | 3624/16337 [09:38<33:55,  6.24it/s][Parallel(n_jobs=-1)]: Done 2624 tasks      | elapsed:  9.7min\n",
            "[Parallel(n_jobs=-1)]: Done 3724 tasks      | elapsed: 12.8min\n",
            " 30%|██▉       | 4824/16337 [12:46<30:27,  6.30it/s][Parallel(n_jobs=-1)]: Done 4824 tasks      | elapsed: 14.8min\n",
            " 37%|███▋      | 6024/16337 [15:59<27:24,  6.27it/s][Parallel(n_jobs=-1)]: Done 6124 tasks      | elapsed: 19.1min\n",
            " 52%|█████▏    | 8424/16337 [22:13<20:45,  6.36it/s][Parallel(n_jobs=-1)]: Done 7424 tasks      | elapsed: 22.4min\n",
            " 59%|█████▉    | 9624/16337 [25:29<17:49,  6.28it/s][Parallel(n_jobs=-1)]: Done 8924 tasks      | elapsed: 25.7min\n",
            " 66%|██████▋   | 10824/16337 [28:51<14:53,  6.17it/s][Parallel(n_jobs=-1)]: Done 10424 tasks      | elapsed: 31.8min\n",
            " 74%|███████▎  | 12024/16337 [32:27<12:02,  5.97it/s][Parallel(n_jobs=-1)]: Done 12124 tasks      | elapsed: 36.1min\n",
            " 88%|████████▊ | 14424/16337 [39:46<05:36,  5.69it/s][Parallel(n_jobs=-1)]: Done 13824 tasks      | elapsed: 40.3min\n",
            "100%|██████████| 16337/16337 [43:23<00:00,  6.27it/s]\n",
            "[Parallel(n_jobs=-1)]: Done 15059 tasks      | elapsed: 44.0min\n",
            "[Parallel(n_jobs=-1)]: Done 15439 tasks      | elapsed: 44.5min\n",
            "[Parallel(n_jobs=-1)]: Done 15829 tasks      | elapsed: 44.8min\n",
            "[Parallel(n_jobs=-1)]: Done 15934 tasks      | elapsed: 45.2min\n",
            "[Parallel(n_jobs=-1)]: Done 16049 tasks      | elapsed: 45.5min\n",
            "[Parallel(n_jobs=-1)]: Done 16164 tasks      | elapsed: 45.8min\n",
            "[Parallel(n_jobs=-1)]: Done 16337 out of 16337 | elapsed: 46.3min finished\n"
          ]
        },
        {
          "name": "stdout",
          "output_type": "stream",
          "text": [
            "[ GOOG ] dataFrame.head \n",
            "            GOOG\n",
            "2020-06-30 70.26\n",
            "2020-07-01 71.48\n",
            "2020-07-02 72.80\n"
          ]
        },
        {
          "name": "stderr",
          "output_type": "stream",
          "text": [
            "  0%|          | 0/441 [00:00<?, ?it/s][Parallel(n_jobs=-1)]: Using backend LokyBackend with 12 concurrent workers.\n",
            "[Parallel(n_jobs=-1)]: Done   2 tasks      | elapsed:    0.0s\n",
            "100%|██████████| 441/441 [00:00<00:00, 8641.95it/s]\n",
            "[Parallel(n_jobs=-1)]: Done  12 tasks      | elapsed:    0.0s\n",
            "[Parallel(n_jobs=-1)]: Done  27 tasks      | elapsed:    0.0s\n",
            "[Parallel(n_jobs=-1)]: Done  48 tasks      | elapsed:    0.1s\n",
            "[Parallel(n_jobs=-1)]: Done  75 tasks      | elapsed:    0.2s\n",
            "[Parallel(n_jobs=-1)]: Done 102 tasks      | elapsed:    0.2s\n",
            "[Parallel(n_jobs=-1)]: Done 135 tasks      | elapsed:    0.3s\n",
            "[Parallel(n_jobs=-1)]: Done 168 tasks      | elapsed:    0.4s\n",
            "[Parallel(n_jobs=-1)]: Done 207 tasks      | elapsed:    0.5s\n",
            "[Parallel(n_jobs=-1)]: Done 246 tasks      | elapsed:    0.6s\n",
            "[Parallel(n_jobs=-1)]: Done 291 tasks      | elapsed:    0.8s\n",
            "[Parallel(n_jobs=-1)]: Done 336 tasks      | elapsed:    0.9s\n",
            "[Parallel(n_jobs=-1)]: Done 387 tasks      | elapsed:    1.0s\n",
            "[Parallel(n_jobs=-1)]: Done 441 out of 441 | elapsed:    1.2s finished\n"
          ]
        },
        {
          "name": "stdout",
          "output_type": "stream",
          "text": [
            "[ GOOG ] dataFrame.head \n",
            "            Open  High   Low  Close    Volume  Adj Close\n",
            "2020-06-30 69.52 70.93 69.20  70.68  40848000      70.26\n",
            "2020-07-01 70.56 72.15 70.49  71.90  35504000      71.48\n",
            "2020-07-02 72.35 74.15 72.32  73.24  37182000      72.80\n"
          ]
        },
        {
          "name": "stderr",
          "output_type": "stream",
          "text": [
            "  0%|          | 0/1922 [00:00<?, ?it/s][Parallel(n_jobs=-1)]: Using backend LokyBackend with 12 concurrent workers.\n",
            "[Parallel(n_jobs=-1)]: Done   2 tasks      | elapsed:    0.0s\n",
            "[Parallel(n_jobs=-1)]: Done  12 tasks      | elapsed:    0.0s\n",
            "[Parallel(n_jobs=-1)]: Done  74 tasks      | elapsed:    1.5s\n",
            " 32%|███▏      | 624/1922 [00:01<00:03, 394.87it/s][Parallel(n_jobs=-1)]: Done 424 tasks      | elapsed:    1.8s\n",
            " 64%|██████▎   | 1224/1922 [00:03<00:01, 371.46it/s][Parallel(n_jobs=-1)]: Done 874 tasks      | elapsed:    3.2s\n",
            "100%|██████████| 1922/1922 [00:04<00:00, 420.00it/s]\n",
            "[Parallel(n_jobs=-1)]: Done 1324 tasks      | elapsed:    4.5s\n",
            "[Parallel(n_jobs=-1)]: Done 1384 tasks      | elapsed:    4.6s\n",
            "[Parallel(n_jobs=-1)]: Done 1542 tasks      | elapsed:    4.6s\n",
            "[Parallel(n_jobs=-1)]: Done 1604 tasks      | elapsed:    4.7s\n",
            "[Parallel(n_jobs=-1)]: Done 1617 tasks      | elapsed:    4.8s\n",
            "[Parallel(n_jobs=-1)]: Done 1632 tasks      | elapsed:    4.9s\n",
            "[Parallel(n_jobs=-1)]: Done 1647 tasks      | elapsed:    5.0s\n",
            "[Parallel(n_jobs=-1)]: Done 1664 tasks      | elapsed:    5.1s\n",
            "[Parallel(n_jobs=-1)]: Done 1922 out of 1922 | elapsed:    5.3s finished\n"
          ]
        },
        {
          "name": "stdout",
          "output_type": "stream",
          "text": [
            "[ AMZN ] dataFrame.head \n",
            "             AMZN\n",
            "2020-06-30 137.94\n",
            "2020-07-01 143.93\n",
            "2020-07-02 144.51\n"
          ]
        },
        {
          "name": "stderr",
          "output_type": "stream",
          "text": [
            "  0%|          | 0/16337 [00:00<?, ?it/s][Parallel(n_jobs=-1)]: Using backend LokyBackend with 12 concurrent workers.\n",
            "[Parallel(n_jobs=-1)]: Done   2 tasks      | elapsed:    3.4s\n",
            "  0%|          | 24/16337 [00:03<40:10,  6.77it/s][Parallel(n_jobs=-1)]: Done  12 tasks      | elapsed:    4.0s\n",
            "[Parallel(n_jobs=-1)]: Done 124 tasks      | elapsed:  3.2min\n",
            "  7%|▋         | 1224/16337 [03:11<39:27,  6.38it/s][Parallel(n_jobs=-1)]: Done 824 tasks      | elapsed:  3.7min\n",
            " 15%|█▍        | 2424/16337 [06:25<36:55,  6.28it/s][Parallel(n_jobs=-1)]: Done 1724 tasks      | elapsed:  6.5min\n",
            " 22%|██▏       | 3624/16337 [09:36<33:47,  6.27it/s][Parallel(n_jobs=-1)]: Done 2624 tasks      | elapsed:  9.6min\n",
            "[Parallel(n_jobs=-1)]: Done 3724 tasks      | elapsed: 12.8min\n",
            " 30%|██▉       | 4824/16337 [12:47<30:34,  6.28it/s][Parallel(n_jobs=-1)]: Done 4824 tasks      | elapsed: 14.9min\n",
            " 37%|███▋      | 6024/16337 [15:58<27:23,  6.28it/s][Parallel(n_jobs=-1)]: Done 6124 tasks      | elapsed: 19.2min\n",
            " 52%|█████▏    | 8424/16337 [22:20<20:57,  6.29it/s][Parallel(n_jobs=-1)]: Done 7424 tasks      | elapsed: 22.4min\n",
            " 59%|█████▉    | 9624/16337 [25:33<17:52,  6.26it/s][Parallel(n_jobs=-1)]: Done 8924 tasks      | elapsed: 25.8min\n",
            " 66%|██████▋   | 10824/16337 [28:54<14:53,  6.17it/s][Parallel(n_jobs=-1)]: Done 10424 tasks      | elapsed: 31.8min\n",
            " 74%|███████▎  | 12024/16337 [32:15<11:46,  6.11it/s][Parallel(n_jobs=-1)]: Done 12124 tasks      | elapsed: 35.9min\n",
            " 88%|████████▊ | 14424/16337 [39:14<05:23,  5.92it/s][Parallel(n_jobs=-1)]: Done 13824 tasks      | elapsed: 40.2min\n",
            "100%|██████████| 16337/16337 [42:51<00:00,  6.35it/s]\n",
            "[Parallel(n_jobs=-1)]: Done 14964 tasks      | elapsed: 43.7min\n",
            "[Parallel(n_jobs=-1)]: Done 15154 tasks      | elapsed: 44.3min\n",
            "[Parallel(n_jobs=-1)]: Done 15639 tasks      | elapsed: 44.7min\n",
            "[Parallel(n_jobs=-1)]: Done 15934 tasks      | elapsed: 45.0min\n",
            "[Parallel(n_jobs=-1)]: Done 16049 tasks      | elapsed: 45.4min\n",
            "[Parallel(n_jobs=-1)]: Done 16164 tasks      | elapsed: 45.7min\n",
            "[Parallel(n_jobs=-1)]: Done 16314 out of 16337 | elapsed: 46.1min remaining:    3.8s\n",
            "[Parallel(n_jobs=-1)]: Done 16337 out of 16337 | elapsed: 46.1min finished\n"
          ]
        },
        {
          "name": "stdout",
          "output_type": "stream",
          "text": [
            "[ AMZN ] dataFrame.head \n",
            "             AMZN\n",
            "2020-06-30 137.94\n",
            "2020-07-01 143.93\n",
            "2020-07-02 144.51\n"
          ]
        },
        {
          "name": "stderr",
          "output_type": "stream",
          "text": [
            "  0%|          | 0/441 [00:00<?, ?it/s][Parallel(n_jobs=-1)]: Using backend LokyBackend with 12 concurrent workers.\n",
            "[Parallel(n_jobs=-1)]: Done   2 tasks      | elapsed:    0.0s\n",
            "100%|██████████| 441/441 [00:00<00:00, 9116.70it/s]\n",
            "[Parallel(n_jobs=-1)]: Done  12 tasks      | elapsed:    0.0s\n",
            "[Parallel(n_jobs=-1)]: Done  27 tasks      | elapsed:    0.0s\n",
            "[Parallel(n_jobs=-1)]: Done  48 tasks      | elapsed:    0.1s\n",
            "[Parallel(n_jobs=-1)]: Done  75 tasks      | elapsed:    0.2s\n",
            "[Parallel(n_jobs=-1)]: Done 102 tasks      | elapsed:    0.3s\n",
            "[Parallel(n_jobs=-1)]: Done 135 tasks      | elapsed:    0.4s\n",
            "[Parallel(n_jobs=-1)]: Done 168 tasks      | elapsed:    0.4s\n",
            "[Parallel(n_jobs=-1)]: Done 207 tasks      | elapsed:    0.6s\n",
            "[Parallel(n_jobs=-1)]: Done 246 tasks      | elapsed:    0.7s\n",
            "[Parallel(n_jobs=-1)]: Done 291 tasks      | elapsed:    0.8s\n",
            "[Parallel(n_jobs=-1)]: Done 336 tasks      | elapsed:    0.9s\n",
            "[Parallel(n_jobs=-1)]: Done 387 tasks      | elapsed:    1.1s\n",
            "[Parallel(n_jobs=-1)]: Done 441 out of 441 | elapsed:    1.2s finished\n"
          ]
        },
        {
          "name": "stdout",
          "output_type": "stream",
          "text": [
            "[ AMZN ] dataFrame.head \n",
            "             Open   High    Low  Close     Volume  Adj Close\n",
            "2020-06-30 134.25 138.48 133.75 137.94   75394000     137.94\n",
            "2020-07-01 137.90 144.75 137.70 143.93  127268000     143.93\n",
            "2020-07-02 145.60 147.78 143.55 144.51  131868000     144.51\n"
          ]
        },
        {
          "name": "stderr",
          "output_type": "stream",
          "text": [
            "  0%|          | 0/1922 [00:00<?, ?it/s][Parallel(n_jobs=-1)]: Using backend LokyBackend with 12 concurrent workers.\n",
            "[Parallel(n_jobs=-1)]: Done   2 tasks      | elapsed:    0.0s\n",
            "[Parallel(n_jobs=-1)]: Done  12 tasks      | elapsed:    0.0s\n",
            "[Parallel(n_jobs=-1)]: Done  74 tasks      | elapsed:    1.4s\n",
            " 32%|███▏      | 624/1922 [00:01<00:03, 410.90it/s][Parallel(n_jobs=-1)]: Done 424 tasks      | elapsed:    1.9s\n",
            " 64%|██████▎   | 1224/1922 [00:03<00:01, 393.52it/s][Parallel(n_jobs=-1)]: Done 874 tasks      | elapsed:    3.6s\n",
            "100%|██████████| 1922/1922 [00:04<00:00, 412.52it/s]\n",
            "[Parallel(n_jobs=-1)]: Done 1275 tasks      | elapsed:    4.6s\n",
            "[Parallel(n_jobs=-1)]: Done 1335 tasks      | elapsed:    4.7s\n",
            "[Parallel(n_jobs=-1)]: Done 1395 tasks      | elapsed:    4.9s\n",
            "[Parallel(n_jobs=-1)]: Done 1457 tasks      | elapsed:    5.0s\n",
            "[Parallel(n_jobs=-1)]: Done 1519 tasks      | elapsed:    5.1s\n",
            "[Parallel(n_jobs=-1)]: Done 1534 tasks      | elapsed:    5.2s\n",
            "[Parallel(n_jobs=-1)]: Done 1598 tasks      | elapsed:    5.2s\n",
            "[Parallel(n_jobs=-1)]: Done 1664 tasks      | elapsed:    5.3s\n",
            "[Parallel(n_jobs=-1)]: Done 1922 out of 1922 | elapsed:    5.6s finished\n"
          ]
        },
        {
          "name": "stdout",
          "output_type": "stream",
          "text": [
            "[ META ] dataFrame.head \n",
            "             META\n",
            "2020-06-30 225.83\n",
            "2020-07-01 236.25\n",
            "2020-07-02 232.15\n"
          ]
        },
        {
          "name": "stderr",
          "output_type": "stream",
          "text": [
            "  0%|          | 0/16337 [00:00<?, ?it/s][Parallel(n_jobs=-1)]: Using backend LokyBackend with 12 concurrent workers.\n",
            "[Parallel(n_jobs=-1)]: Done   2 tasks      | elapsed:    3.5s\n",
            "  0%|          | 24/16337 [00:03<40:49,  6.66it/s][Parallel(n_jobs=-1)]: Done  12 tasks      | elapsed:    4.1s\n",
            "[Parallel(n_jobs=-1)]: Done 124 tasks      | elapsed:  3.2min\n",
            "  7%|▋         | 1224/16337 [03:13<39:52,  6.32it/s][Parallel(n_jobs=-1)]: Done 824 tasks      | elapsed:  3.9min\n",
            " 15%|█▍        | 2424/16337 [06:28<37:13,  6.23it/s][Parallel(n_jobs=-1)]: Done 1724 tasks      | elapsed:  6.7min\n",
            " 22%|██▏       | 3624/16337 [09:41<34:03,  6.22it/s][Parallel(n_jobs=-1)]: Done 2624 tasks      | elapsed:  9.8min\n",
            "[Parallel(n_jobs=-1)]: Done 3724 tasks      | elapsed: 12.9min\n",
            " 30%|██▉       | 4824/16337 [12:56<30:58,  6.19it/s][Parallel(n_jobs=-1)]: Done 4824 tasks      | elapsed: 15.1min\n",
            " 37%|███▋      | 6024/16337 [16:10<27:44,  6.20it/s][Parallel(n_jobs=-1)]: Done 6124 tasks      | elapsed: 19.3min\n",
            " 52%|█████▏    | 8424/16337 [22:33<21:13,  6.21it/s][Parallel(n_jobs=-1)]: Done 7424 tasks      | elapsed: 22.6min\n",
            " 59%|█████▉    | 9624/16337 [25:50<18:07,  6.17it/s][Parallel(n_jobs=-1)]: Done 8924 tasks      | elapsed: 26.4min\n",
            " 66%|██████▋   | 10824/16337 [29:28<15:26,  5.95it/s][Parallel(n_jobs=-1)]: Done 10424 tasks      | elapsed: 31.9min\n",
            " 74%|███████▎  | 12024/16337 [33:04<12:21,  5.82it/s][Parallel(n_jobs=-1)]: Done 12124 tasks      | elapsed: 36.7min\n",
            " 88%|████████▊ | 14424/16337 [40:08<05:32,  5.75it/s][Parallel(n_jobs=-1)]: Done 13824 tasks      | elapsed: 40.9min\n",
            "100%|██████████| 16337/16337 [43:28<00:00,  6.26it/s]\n",
            "[Parallel(n_jobs=-1)]: Done 14964 tasks      | elapsed: 44.1min\n",
            "[Parallel(n_jobs=-1)]: Done 15154 tasks      | elapsed: 44.7min\n",
            "[Parallel(n_jobs=-1)]: Done 15544 tasks      | elapsed: 45.1min\n",
            "[Parallel(n_jobs=-1)]: Done 15934 tasks      | elapsed: 45.5min\n",
            "[Parallel(n_jobs=-1)]: Done 16049 tasks      | elapsed: 45.8min\n",
            "[Parallel(n_jobs=-1)]: Done 16164 tasks      | elapsed: 46.1min\n",
            "[Parallel(n_jobs=-1)]: Done 16337 out of 16337 | elapsed: 46.5min finished\n"
          ]
        },
        {
          "name": "stdout",
          "output_type": "stream",
          "text": [
            "[ META ] dataFrame.head \n",
            "             META\n",
            "2020-06-30 225.83\n",
            "2020-07-01 236.25\n",
            "2020-07-02 232.15\n"
          ]
        },
        {
          "name": "stderr",
          "output_type": "stream",
          "text": [
            "  0%|          | 0/441 [00:00<?, ?it/s][Parallel(n_jobs=-1)]: Using backend LokyBackend with 12 concurrent workers.\n",
            "[Parallel(n_jobs=-1)]: Done   2 tasks      | elapsed:    0.0s\n",
            "100%|██████████| 441/441 [00:00<00:00, 8133.11it/s]\n",
            "[Parallel(n_jobs=-1)]: Done  12 tasks      | elapsed:    0.0s\n",
            "[Parallel(n_jobs=-1)]: Done  27 tasks      | elapsed:    0.0s\n",
            "[Parallel(n_jobs=-1)]: Done  48 tasks      | elapsed:    0.1s\n",
            "[Parallel(n_jobs=-1)]: Done  75 tasks      | elapsed:    0.2s\n",
            "[Parallel(n_jobs=-1)]: Done 102 tasks      | elapsed:    0.2s\n",
            "[Parallel(n_jobs=-1)]: Done 135 tasks      | elapsed:    0.3s\n",
            "[Parallel(n_jobs=-1)]: Done 168 tasks      | elapsed:    0.4s\n",
            "[Parallel(n_jobs=-1)]: Done 207 tasks      | elapsed:    0.5s\n",
            "[Parallel(n_jobs=-1)]: Done 246 tasks      | elapsed:    0.6s\n",
            "[Parallel(n_jobs=-1)]: Done 291 tasks      | elapsed:    0.8s\n",
            "[Parallel(n_jobs=-1)]: Done 336 tasks      | elapsed:    0.9s\n",
            "[Parallel(n_jobs=-1)]: Done 387 tasks      | elapsed:    1.0s\n",
            "[Parallel(n_jobs=-1)]: Done 441 out of 441 | elapsed:    1.1s finished\n"
          ]
        },
        {
          "name": "stdout",
          "output_type": "stream",
          "text": [
            "[ META ] dataFrame.head \n",
            "             Open   High    Low  Close    Volume  Adj Close\n",
            "2020-06-30 220.59 227.50 218.47 227.07  33927100     225.83\n",
            "2020-07-01 228.50 239.00 227.56 237.55  43399700     236.25\n",
            "2020-07-02 239.00 240.00 232.61 233.42  30633600     232.15\n"
          ]
        },
        {
          "name": "stderr",
          "output_type": "stream",
          "text": [
            "  0%|          | 0/1922 [00:00<?, ?it/s][Parallel(n_jobs=-1)]: Using backend LokyBackend with 12 concurrent workers.\n",
            "[Parallel(n_jobs=-1)]: Done   2 tasks      | elapsed:    0.0s\n",
            "[Parallel(n_jobs=-1)]: Done  12 tasks      | elapsed:    0.0s\n",
            "[Parallel(n_jobs=-1)]: Done  74 tasks      | elapsed:    1.5s\n",
            " 32%|███▏      | 624/1922 [00:01<00:03, 399.70it/s][Parallel(n_jobs=-1)]: Done 424 tasks      | elapsed:    1.6s\n",
            " 64%|██████▎   | 1224/1922 [00:03<00:01, 397.32it/s][Parallel(n_jobs=-1)]: Done 874 tasks      | elapsed:    3.2s\n",
            "100%|██████████| 1922/1922 [00:04<00:00, 423.58it/s]\n",
            "[Parallel(n_jobs=-1)]: Done 1324 tasks      | elapsed:    4.4s\n",
            "[Parallel(n_jobs=-1)]: Done 1433 tasks      | elapsed:    4.6s\n",
            "[Parallel(n_jobs=-1)]: Done 1493 tasks      | elapsed:    4.6s\n",
            "[Parallel(n_jobs=-1)]: Done 1604 tasks      | elapsed:    4.7s\n",
            "[Parallel(n_jobs=-1)]: Done 1617 tasks      | elapsed:    4.7s\n",
            "[Parallel(n_jobs=-1)]: Done 1632 tasks      | elapsed:    4.8s\n",
            "[Parallel(n_jobs=-1)]: Done 1794 tasks      | elapsed:    4.9s\n",
            "[Parallel(n_jobs=-1)]: Done 1909 tasks      | elapsed:    4.9s\n",
            "[Parallel(n_jobs=-1)]: Done 1922 out of 1922 | elapsed:    4.9s finished\n"
          ]
        },
        {
          "name": "stdout",
          "output_type": "stream",
          "text": [
            "[ NVDA ] dataFrame.head \n",
            "            NVDA\n",
            "2020-06-30  9.47\n",
            "2020-07-01  9.50\n",
            "2020-07-02  9.58\n"
          ]
        },
        {
          "name": "stderr",
          "output_type": "stream",
          "text": [
            "  0%|          | 0/16337 [00:00<?, ?it/s][Parallel(n_jobs=-1)]: Using backend LokyBackend with 12 concurrent workers.\n",
            "[Parallel(n_jobs=-1)]: Done   2 tasks      | elapsed:    3.7s\n",
            "  0%|          | 24/16337 [00:03<42:30,  6.40it/s][Parallel(n_jobs=-1)]: Done  12 tasks      | elapsed:    4.0s\n",
            "[Parallel(n_jobs=-1)]: Done 124 tasks      | elapsed:  3.3min\n",
            "  7%|▋         | 1224/16337 [03:19<41:01,  6.14it/s][Parallel(n_jobs=-1)]: Done 824 tasks      | elapsed:  3.4min\n",
            " 15%|█▍        | 2424/16337 [06:40<38:22,  6.04it/s][Parallel(n_jobs=-1)]: Done 1724 tasks      | elapsed:  6.7min\n",
            " 22%|██▏       | 3624/16337 [09:52<34:36,  6.12it/s][Parallel(n_jobs=-1)]: Done 2624 tasks      | elapsed:  9.9min\n",
            "[Parallel(n_jobs=-1)]: Done 3724 tasks      | elapsed: 13.2min\n",
            " 30%|██▉       | 4824/16337 [13:12<31:32,  6.08it/s][Parallel(n_jobs=-1)]: Done 4824 tasks      | elapsed: 13.7min\n",
            " 37%|███▋      | 6024/16337 [16:17<27:36,  6.23it/s][Parallel(n_jobs=-1)]: Done 6124 tasks      | elapsed: 19.4min\n",
            " 52%|█████▏    | 8424/16337 [22:32<20:52,  6.32it/s][Parallel(n_jobs=-1)]: Done 7424 tasks      | elapsed: 22.6min\n",
            " 59%|█████▉    | 9624/16337 [25:41<17:41,  6.33it/s][Parallel(n_jobs=-1)]: Done 8924 tasks      | elapsed: 26.0min\n",
            " 66%|██████▋   | 10824/16337 [28:49<14:29,  6.34it/s][Parallel(n_jobs=-1)]: Done 10424 tasks      | elapsed: 31.9min\n",
            " 74%|███████▎  | 12024/16337 [32:03<11:25,  6.29it/s][Parallel(n_jobs=-1)]: Done 12124 tasks      | elapsed: 35.4min\n",
            " 88%|████████▊ | 14424/16337 [38:57<05:17,  6.02it/s][Parallel(n_jobs=-1)]: Done 13824 tasks      | elapsed: 39.6min\n",
            "100%|██████████| 16337/16337 [42:43<00:00,  6.37it/s]\n",
            "[Parallel(n_jobs=-1)]: Done 14964 tasks      | elapsed: 43.3min\n",
            "[Parallel(n_jobs=-1)]: Done 15154 tasks      | elapsed: 43.9min\n",
            "[Parallel(n_jobs=-1)]: Done 15449 tasks      | elapsed: 44.5min\n",
            "[Parallel(n_jobs=-1)]: Done 15934 tasks      | elapsed: 44.9min\n",
            "[Parallel(n_jobs=-1)]: Done 16049 tasks      | elapsed: 45.2min\n",
            "[Parallel(n_jobs=-1)]: Done 16164 tasks      | elapsed: 45.5min\n",
            "[Parallel(n_jobs=-1)]: Done 16337 out of 16337 | elapsed: 46.0min finished\n"
          ]
        },
        {
          "name": "stdout",
          "output_type": "stream",
          "text": [
            "[ NVDA ] dataFrame.head \n",
            "            NVDA\n",
            "2020-06-30  9.47\n",
            "2020-07-01  9.50\n",
            "2020-07-02  9.58\n"
          ]
        },
        {
          "name": "stderr",
          "output_type": "stream",
          "text": [
            "  0%|          | 0/441 [00:00<?, ?it/s][Parallel(n_jobs=-1)]: Using backend LokyBackend with 12 concurrent workers.\n",
            "[Parallel(n_jobs=-1)]: Done   2 tasks      | elapsed:    0.0s\n",
            "100%|██████████| 441/441 [00:00<00:00, 9042.45it/s]\n",
            "[Parallel(n_jobs=-1)]: Done  12 tasks      | elapsed:    0.0s\n",
            "[Parallel(n_jobs=-1)]: Done  27 tasks      | elapsed:    0.0s\n",
            "[Parallel(n_jobs=-1)]: Done  48 tasks      | elapsed:    0.1s\n",
            "[Parallel(n_jobs=-1)]: Done  75 tasks      | elapsed:    0.1s\n",
            "[Parallel(n_jobs=-1)]: Done 102 tasks      | elapsed:    0.2s\n",
            "[Parallel(n_jobs=-1)]: Done 135 tasks      | elapsed:    0.3s\n",
            "[Parallel(n_jobs=-1)]: Done 168 tasks      | elapsed:    0.4s\n",
            "[Parallel(n_jobs=-1)]: Done 207 tasks      | elapsed:    0.6s\n",
            "[Parallel(n_jobs=-1)]: Done 246 tasks      | elapsed:    0.7s\n",
            "[Parallel(n_jobs=-1)]: Done 291 tasks      | elapsed:    0.8s\n",
            "[Parallel(n_jobs=-1)]: Done 336 tasks      | elapsed:    0.9s\n",
            "[Parallel(n_jobs=-1)]: Done 387 tasks      | elapsed:    1.1s\n",
            "[Parallel(n_jobs=-1)]: Done 441 out of 441 | elapsed:    1.2s finished\n"
          ]
        },
        {
          "name": "stdout",
          "output_type": "stream",
          "text": [
            "[ NVDA ] dataFrame.head \n",
            "            Open  High  Low  Close     Volume  Adj Close\n",
            "2020-06-30  9.31  9.53 9.27   9.50  367892000       9.47\n",
            "2020-07-01  9.52  9.58 9.41   9.53  326648000       9.50\n",
            "2020-07-02  9.64  9.74 9.58   9.61  364056000       9.58\n"
          ]
        },
        {
          "name": "stderr",
          "output_type": "stream",
          "text": [
            "  0%|          | 0/1922 [00:00<?, ?it/s][Parallel(n_jobs=-1)]: Using backend LokyBackend with 12 concurrent workers.\n",
            "[Parallel(n_jobs=-1)]: Done   2 tasks      | elapsed:    0.0s\n",
            "[Parallel(n_jobs=-1)]: Done  12 tasks      | elapsed:    0.0s\n",
            "[Parallel(n_jobs=-1)]: Done  74 tasks      | elapsed:    1.5s\n",
            " 32%|███▏      | 624/1922 [00:01<00:03, 395.90it/s][Parallel(n_jobs=-1)]: Done 424 tasks      | elapsed:    1.8s\n",
            " 64%|██████▎   | 1224/1922 [00:03<00:01, 395.74it/s][Parallel(n_jobs=-1)]: Done 874 tasks      | elapsed:    3.3s\n",
            "100%|██████████| 1922/1922 [00:04<00:00, 435.65it/s]\n",
            "[Parallel(n_jobs=-1)]: Done 1275 tasks      | elapsed:    4.3s\n",
            "[Parallel(n_jobs=-1)]: Done 1384 tasks      | elapsed:    4.5s\n",
            "[Parallel(n_jobs=-1)]: Done 1493 tasks      | elapsed:    4.6s\n",
            "[Parallel(n_jobs=-1)]: Done 1506 tasks      | elapsed:    4.7s\n",
            "[Parallel(n_jobs=-1)]: Done 1519 tasks      | elapsed:    4.8s\n",
            "[Parallel(n_jobs=-1)]: Done 1534 tasks      | elapsed:    4.9s\n",
            "[Parallel(n_jobs=-1)]: Done 1549 tasks      | elapsed:    5.0s\n",
            "[Parallel(n_jobs=-1)]: Done 1615 tasks      | elapsed:    5.1s\n",
            "[Parallel(n_jobs=-1)]: Done 1922 out of 1922 | elapsed:    5.4s finished\n"
          ]
        },
        {
          "name": "stdout",
          "output_type": "stream",
          "text": [
            "[ TSLA ] dataFrame.head \n",
            "            TSLA\n",
            "2020-06-30 71.99\n",
            "2020-07-01 74.64\n",
            "2020-07-02 80.58\n"
          ]
        },
        {
          "name": "stderr",
          "output_type": "stream",
          "text": [
            "  0%|          | 0/16337 [00:00<?, ?it/s][Parallel(n_jobs=-1)]: Using backend LokyBackend with 12 concurrent workers.\n",
            "[Parallel(n_jobs=-1)]: Done   2 tasks      | elapsed:    3.6s\n",
            "  0%|          | 24/16337 [00:03<42:16,  6.43it/s][Parallel(n_jobs=-1)]: Done  12 tasks      | elapsed:    4.3s\n",
            "[Parallel(n_jobs=-1)]: Done 124 tasks      | elapsed:  3.3min\n",
            "  7%|▋         | 1224/16337 [03:15<40:11,  6.27it/s][Parallel(n_jobs=-1)]: Done 824 tasks      | elapsed:  3.5min\n",
            " 15%|█▍        | 2424/16337 [06:30<37:28,  6.19it/s][Parallel(n_jobs=-1)]: Done 1724 tasks      | elapsed:  6.6min\n",
            " 22%|██▏       | 3624/16337 [09:42<34:04,  6.22it/s][Parallel(n_jobs=-1)]: Done 2624 tasks      | elapsed:  9.8min\n",
            "[Parallel(n_jobs=-1)]: Done 3724 tasks      | elapsed: 13.0min\n",
            " 30%|██▉       | 4824/16337 [12:58<31:00,  6.19it/s][Parallel(n_jobs=-1)]: Done 4824 tasks      | elapsed: 13.6min\n",
            " 37%|███▋      | 6024/16337 [16:11<27:43,  6.20it/s][Parallel(n_jobs=-1)]: Done 6124 tasks      | elapsed: 19.4min\n",
            " 52%|█████▏    | 8424/16337 [22:32<21:04,  6.26it/s][Parallel(n_jobs=-1)]: Done 7424 tasks      | elapsed: 22.7min\n",
            " 59%|█████▉    | 9624/16337 [25:41<17:48,  6.28it/s][Parallel(n_jobs=-1)]: Done 8924 tasks      | elapsed: 26.0min\n",
            " 66%|██████▋   | 10824/16337 [28:50<14:34,  6.30it/s][Parallel(n_jobs=-1)]: Done 10424 tasks      | elapsed: 31.1min\n",
            " 74%|███████▎  | 12024/16337 [32:01<11:24,  6.30it/s][Parallel(n_jobs=-1)]: Done 12124 tasks      | elapsed: 35.2min\n",
            " 88%|████████▊ | 14424/16337 [38:29<05:07,  6.23it/s][Parallel(n_jobs=-1)]: Done 13824 tasks      | elapsed: 38.9min\n",
            "100%|██████████| 16337/16337 [41:43<00:00,  6.52it/s]\n",
            "[Parallel(n_jobs=-1)]: Done 15059 tasks      | elapsed: 42.1min\n",
            "[Parallel(n_jobs=-1)]: Done 15154 tasks      | elapsed: 42.7min\n",
            "[Parallel(n_jobs=-1)]: Done 15259 tasks      | elapsed: 43.3min\n",
            "[Parallel(n_jobs=-1)]: Done 15364 tasks      | elapsed: 43.8min\n",
            "[Parallel(n_jobs=-1)]: Done 15479 tasks      | elapsed: 44.4min\n",
            "[Parallel(n_jobs=-1)]: Done 15974 tasks      | elapsed: 44.9min\n",
            "[Parallel(n_jobs=-1)]: Done 16337 out of 16337 | elapsed: 45.4min finished\n"
          ]
        },
        {
          "name": "stdout",
          "output_type": "stream",
          "text": [
            "[ TSLA ] dataFrame.head \n",
            "            TSLA\n",
            "2020-06-30 71.99\n",
            "2020-07-01 74.64\n",
            "2020-07-02 80.58\n"
          ]
        },
        {
          "name": "stderr",
          "output_type": "stream",
          "text": [
            "  0%|          | 0/441 [00:00<?, ?it/s][Parallel(n_jobs=-1)]: Using backend LokyBackend with 12 concurrent workers.\n",
            "[Parallel(n_jobs=-1)]: Done   2 tasks      | elapsed:    0.0s\n",
            "100%|██████████| 441/441 [00:00<00:00, 8466.83it/s]\n",
            "[Parallel(n_jobs=-1)]: Done  12 tasks      | elapsed:    0.0s\n",
            "[Parallel(n_jobs=-1)]: Done  27 tasks      | elapsed:    0.0s\n",
            "[Parallel(n_jobs=-1)]: Done  48 tasks      | elapsed:    0.1s\n",
            "[Parallel(n_jobs=-1)]: Done  75 tasks      | elapsed:    0.1s\n",
            "[Parallel(n_jobs=-1)]: Done 102 tasks      | elapsed:    0.2s\n",
            "[Parallel(n_jobs=-1)]: Done 135 tasks      | elapsed:    0.3s\n",
            "[Parallel(n_jobs=-1)]: Done 168 tasks      | elapsed:    0.4s\n",
            "[Parallel(n_jobs=-1)]: Done 207 tasks      | elapsed:    0.5s\n",
            "[Parallel(n_jobs=-1)]: Done 246 tasks      | elapsed:    0.6s\n",
            "[Parallel(n_jobs=-1)]: Done 291 tasks      | elapsed:    0.8s\n",
            "[Parallel(n_jobs=-1)]: Done 336 tasks      | elapsed:    0.9s\n",
            "[Parallel(n_jobs=-1)]: Done 387 tasks      | elapsed:    1.0s\n",
            "[Parallel(n_jobs=-1)]: Done 441 out of 441 | elapsed:    1.2s finished\n"
          ]
        },
        {
          "name": "stdout",
          "output_type": "stream",
          "text": [
            "[ TSLA ] dataFrame.head \n",
            "            Open  High   Low  Close     Volume  Adj Close\n",
            "2020-06-30 67.10 72.51 66.92  71.99  253777500      71.99\n",
            "2020-07-01 72.20 75.69 72.03  74.64  199903500      74.64\n",
            "2020-07-02 81.43 81.87 79.04  80.58  258751500      80.58\n"
          ]
        },
        {
          "name": "stderr",
          "output_type": "stream",
          "text": [
            "  0%|          | 0/1922 [00:00<?, ?it/s][Parallel(n_jobs=-1)]: Using backend LokyBackend with 12 concurrent workers.\n",
            "[Parallel(n_jobs=-1)]: Done   2 tasks      | elapsed:    0.0s\n",
            "[Parallel(n_jobs=-1)]: Done  12 tasks      | elapsed:    0.0s\n",
            "[Parallel(n_jobs=-1)]: Done  74 tasks      | elapsed:    1.4s\n",
            " 32%|███▏      | 624/1922 [00:01<00:03, 413.77it/s][Parallel(n_jobs=-1)]: Done 424 tasks      | elapsed:    1.8s\n",
            " 64%|██████▎   | 1224/1922 [00:03<00:01, 386.16it/s][Parallel(n_jobs=-1)]: Done 874 tasks      | elapsed:    3.2s\n",
            "100%|██████████| 1922/1922 [00:04<00:00, 416.76it/s]\n",
            "[Parallel(n_jobs=-1)]: Done 1275 tasks      | elapsed:    4.5s\n",
            "[Parallel(n_jobs=-1)]: Done 1433 tasks      | elapsed:    4.6s\n",
            "[Parallel(n_jobs=-1)]: Done 1493 tasks      | elapsed:    4.7s\n",
            "[Parallel(n_jobs=-1)]: Done 1555 tasks      | elapsed:    4.8s\n",
            "[Parallel(n_jobs=-1)]: Done 1617 tasks      | elapsed:    4.8s\n",
            "[Parallel(n_jobs=-1)]: Done 1730 tasks      | elapsed:    4.9s\n",
            "[Parallel(n_jobs=-1)]: Done 1892 tasks      | elapsed:    4.9s\n",
            "[Parallel(n_jobs=-1)]: Done 1909 tasks      | elapsed:    5.0s\n",
            "[Parallel(n_jobs=-1)]: Done 1922 out of 1922 | elapsed:    5.0s finished\n"
          ]
        },
        {
          "name": "stdout",
          "output_type": "stream",
          "text": [
            "[ AAPL ] dataFrame.head \n",
            "            AAPL\n",
            "2020-06-30 88.65\n",
            "2020-07-01 88.49\n",
            "2020-07-02 88.49\n"
          ]
        },
        {
          "name": "stderr",
          "output_type": "stream",
          "text": [
            "  0%|          | 0/16337 [00:00<?, ?it/s][Parallel(n_jobs=-1)]: Using backend LokyBackend with 12 concurrent workers.\n",
            "[Parallel(n_jobs=-1)]: Done   2 tasks      | elapsed:    3.7s\n",
            "  0%|          | 24/16337 [00:03<43:03,  6.31it/s][Parallel(n_jobs=-1)]: Done  12 tasks      | elapsed:    3.9s\n",
            "[Parallel(n_jobs=-1)]: Done 124 tasks      | elapsed:  3.3min\n",
            "  7%|▋         | 1224/16337 [03:15<40:19,  6.25it/s][Parallel(n_jobs=-1)]: Done 824 tasks      | elapsed:  3.4min\n",
            " 15%|█▍        | 2424/16337 [06:29<37:16,  6.22it/s][Parallel(n_jobs=-1)]: Done 1724 tasks      | elapsed:  6.6min\n",
            " 22%|██▏       | 3624/16337 [09:41<34:01,  6.23it/s][Parallel(n_jobs=-1)]: Done 2624 tasks      | elapsed:  9.7min\n",
            "[Parallel(n_jobs=-1)]: Done 3724 tasks      | elapsed: 13.0min\n",
            " 30%|██▉       | 4824/16337 [12:58<31:02,  6.18it/s][Parallel(n_jobs=-1)]: Done 4824 tasks      | elapsed: 13.5min\n",
            " 37%|███▋      | 6024/16337 [16:09<27:39,  6.21it/s][Parallel(n_jobs=-1)]: Done 6124 tasks      | elapsed: 19.4min\n",
            " 52%|█████▏    | 8424/16337 [22:34<21:09,  6.23it/s][Parallel(n_jobs=-1)]: Done 7424 tasks      | elapsed: 22.7min\n",
            " 59%|█████▉    | 9624/16337 [25:47<17:59,  6.22it/s][Parallel(n_jobs=-1)]: Done 8924 tasks      | elapsed: 26.0min\n",
            " 66%|██████▋   | 10824/16337 [29:01<14:47,  6.21it/s][Parallel(n_jobs=-1)]: Done 10424 tasks      | elapsed: 29.9min\n",
            " 74%|███████▎  | 12024/16337 [32:12<11:32,  6.23it/s][Parallel(n_jobs=-1)]: Done 12124 tasks      | elapsed: 35.4min\n",
            " 88%|████████▊ | 14424/16337 [38:37<05:06,  6.23it/s][Parallel(n_jobs=-1)]: Done 13824 tasks      | elapsed: 39.0min\n",
            "100%|██████████| 16337/16337 [41:49<00:00,  6.51it/s]\n",
            "[Parallel(n_jobs=-1)]: Done 15059 tasks      | elapsed: 42.3min\n",
            "[Parallel(n_jobs=-1)]: Done 15154 tasks      | elapsed: 42.8min\n",
            "[Parallel(n_jobs=-1)]: Done 15734 tasks      | elapsed: 43.2min\n",
            "[Parallel(n_jobs=-1)]: Done 15934 tasks      | elapsed: 43.5min\n",
            "[Parallel(n_jobs=-1)]: Done 16049 tasks      | elapsed: 43.8min\n",
            "[Parallel(n_jobs=-1)]: Done 16164 tasks      | elapsed: 44.0min\n",
            "[Parallel(n_jobs=-1)]: Done 16337 out of 16337 | elapsed: 44.5min finished\n"
          ]
        },
        {
          "name": "stdout",
          "output_type": "stream",
          "text": [
            "[ AAPL ] dataFrame.head \n",
            "            AAPL\n",
            "2020-06-30 88.65\n",
            "2020-07-01 88.49\n",
            "2020-07-02 88.49\n"
          ]
        },
        {
          "name": "stderr",
          "output_type": "stream",
          "text": [
            "  0%|          | 0/441 [00:00<?, ?it/s][Parallel(n_jobs=-1)]: Using backend LokyBackend with 12 concurrent workers.\n",
            "[Parallel(n_jobs=-1)]: Done   2 tasks      | elapsed:    0.0s\n",
            "100%|██████████| 441/441 [00:00<00:00, 8771.12it/s]\n",
            "[Parallel(n_jobs=-1)]: Done  12 tasks      | elapsed:    0.0s\n",
            "[Parallel(n_jobs=-1)]: Done  27 tasks      | elapsed:    0.0s\n",
            "[Parallel(n_jobs=-1)]: Done  48 tasks      | elapsed:    0.1s\n",
            "[Parallel(n_jobs=-1)]: Done  75 tasks      | elapsed:    0.2s\n",
            "[Parallel(n_jobs=-1)]: Done 102 tasks      | elapsed:    0.2s\n",
            "[Parallel(n_jobs=-1)]: Done 135 tasks      | elapsed:    0.3s\n",
            "[Parallel(n_jobs=-1)]: Done 168 tasks      | elapsed:    0.4s\n",
            "[Parallel(n_jobs=-1)]: Done 207 tasks      | elapsed:    0.5s\n",
            "[Parallel(n_jobs=-1)]: Done 246 tasks      | elapsed:    0.6s\n",
            "[Parallel(n_jobs=-1)]: Done 291 tasks      | elapsed:    0.7s\n",
            "[Parallel(n_jobs=-1)]: Done 336 tasks      | elapsed:    0.8s\n",
            "[Parallel(n_jobs=-1)]: Done 387 tasks      | elapsed:    0.9s\n",
            "[Parallel(n_jobs=-1)]: Done 441 out of 441 | elapsed:    1.0s finished\n"
          ]
        },
        {
          "name": "stdout",
          "output_type": "stream",
          "text": [
            "[ AAPL ] dataFrame.head \n",
            "            Open  High   Low  Close     Volume  Adj Close\n",
            "2020-06-30 90.02 91.50 90.00  91.20  140223200      88.65\n",
            "2020-07-01 91.28 91.84 90.98  91.03  110737200      88.49\n",
            "2020-07-02 91.96 92.62 90.91  91.03  114041600      88.49\n"
          ]
        },
        {
          "name": "stderr",
          "output_type": "stream",
          "text": [
            "  0%|          | 0/1922 [00:00<?, ?it/s][Parallel(n_jobs=-1)]: Using backend LokyBackend with 12 concurrent workers.\n",
            "[Parallel(n_jobs=-1)]: Done   2 tasks      | elapsed:    0.0s\n",
            "[Parallel(n_jobs=-1)]: Done  12 tasks      | elapsed:    0.0s\n",
            "[Parallel(n_jobs=-1)]: Done  74 tasks      | elapsed:    1.4s\n",
            " 32%|███▏      | 624/1922 [00:01<00:03, 410.40it/s][Parallel(n_jobs=-1)]: Done 424 tasks      | elapsed:    1.6s\n",
            " 64%|██████▎   | 1224/1922 [00:03<00:01, 392.55it/s][Parallel(n_jobs=-1)]: Done 874 tasks      | elapsed:    3.1s\n",
            "100%|██████████| 1922/1922 [00:04<00:00, 432.60it/s]\n",
            "[Parallel(n_jobs=-1)]: Done 1275 tasks      | elapsed:    4.4s\n",
            "[Parallel(n_jobs=-1)]: Done 1433 tasks      | elapsed:    4.5s\n",
            "[Parallel(n_jobs=-1)]: Done 1640 tasks      | elapsed:    4.5s\n",
            "[Parallel(n_jobs=-1)]: Done 1653 tasks      | elapsed:    4.6s\n",
            "[Parallel(n_jobs=-1)]: Done 1715 tasks      | elapsed:    4.6s\n",
            "[Parallel(n_jobs=-1)]: Done 1828 tasks      | elapsed:    4.7s\n",
            "[Parallel(n_jobs=-1)]: Done 1843 tasks      | elapsed:    4.7s\n",
            "[Parallel(n_jobs=-1)]: Done 1860 tasks      | elapsed:    4.7s\n",
            "[Parallel(n_jobs=-1)]: Done 1922 out of 1922 | elapsed:    4.8s finished\n"
          ]
        }
      ],
      "source": [
        "# Parameter 조합을 csv 로 저장\n",
        "for symbol in symbol_list :\n",
        "    df_rsi = get_rsi_performance_dataframe(symbol, start_date_, end_date_, fee_)\n",
        "    df_macd = get_macd_performance_dataframe(symbol, start_date_, end_date_, fee_)\n",
        "    df_sto = get_stochastic_performance_dataframe(symbol, start_date_, end_date_, fee_)\n",
        "\n",
        "    # write csv\n",
        "    df_rsi.to_csv(f'./rsi/{symbol}_{start_date_}_to_{end_date_}.csv',encoding='utf8', index=False)\n",
        "    df_macd.to_csv(f'./macd/{symbol}_{start_date_}_to_{end_date_}.csv',encoding='utf8', index=False)\n",
        "    df_sto.to_csv(f'./stochastic/{symbol}_{start_date_}_to_{end_date_}.csv',encoding='utf8', index=False)"
      ]
    },
    {
      "cell_type": "code",
      "execution_count": null,
      "metadata": {
        "id": "E9z9RT8wjzBq"
      },
      "outputs": [],
      "source": [
        "# Read_csv\n",
        "# Max CAGR, Max Sharpe Ratio 값 구하기\n",
        "# 해당 값에 해당하는 performance 값 계산 후 image 출력"
      ]
    },
    {
      "cell_type": "code",
      "execution_count": null,
      "metadata": {
        "id": "_Pm9Brz1j6fc"
      },
      "outputs": [],
      "source": [
        "# Max Parameter 를 이용하여 chart Graph 도출\n",
        "def get_rsi_max_performance(symbol, start_date_, end_date_, fee_, text) :\n",
        "    df_rsi = pd.read_csv(f'./rsi/{symbol}_{start_date_}_to_{end_date_}.csv',encoding='utf8', index=False)\n",
        "\n",
        "    max_series = df_rsi[df_rsi[text] == df_rsi[text].max()].iloc[0]\n",
        "    max_w = max_series['w_param']\n",
        "    max_buy = max_series['buy_param']\n",
        "    max_sell = max_series['sell_param']\n",
        "\n",
        "    print(f\"### {symbol}'s Parameter of max({text})\")\n",
        "    print(f\"{max_series}\")\n",
        "\n",
        "    df = fs.get_price(symbol, start_date=start_date_, end_date=end_date_)\n",
        "    # df = pd.read_csv(f\"get_price_{symbol}_{start_date_}_to_{end_date_}.csv\", encoding=\"utf8\", index_col=0, parse_dates=True)\n",
        "\n",
        "    # rsi\n",
        "    fs.rsi(df, w=max_w)\n",
        "    fs.draw_chart(df, left='rsi', right= symbol)\n",
        "    # 파일로 저장\n",
        "    plt.savefig(f\"./rsi/{symbol}_{text}_price_chart.png\", dpi=300, bbox_inches=\"tight\")\n",
        "    # 리소스 해제\n",
        "    plt.close()\n",
        "\n",
        "    fs.indicator_to_signal(df, factor='rsi', buy=max_buy, sell=max_sell)\n",
        "    # Calc position\n",
        "    fs.position(df)\n",
        "    fs.draw_chart(df, left='rsi', right='position_chart')\n",
        "    # 파일로 저장\n",
        "    plt.savefig(f\"./rsi/{symbol}_{text}_position_chart.png\", dpi=300, bbox_inches=\"tight\")\n",
        "    # 리소스 해제\n",
        "    plt.close()\n",
        "\n",
        "    # Evalution\n",
        "    fs.evaluate(df, cost= fee_)\n",
        "    fs.draw_chart(df, left='acc_rtn_dp', right=symbol)\n",
        "    # 파일로 저장\n",
        "    plt.savefig(f\"./rsi/{symbol}_{text}_evaluation_chart.png\", dpi=300, bbox_inches=\"tight\")\n",
        "    # 리소스 해제\n",
        "    plt.close()\n",
        "\n",
        "    # get Performance\n",
        "    fs.performance(df, rf_rate=0.02)\n",
        "\n",
        "    fs.draw_trade_results(df)\n",
        "    # 파일로 저장\n",
        "    plt.savefig(f\"./rsi/{symbol}_{text}_trade_result_chart.png\", dpi=300, bbox_inches=\"tight\")\n",
        "    # 리소스 해제\n",
        "    plt.close()\n"
      ]
    },
    {
      "cell_type": "code",
      "execution_count": null,
      "metadata": {
        "id": "DDHLQaFvgsKM"
      },
      "outputs": [],
      "source": []
    },
    {
      "cell_type": "code",
      "execution_count": null,
      "metadata": {
        "id": "Iof6obbmgsWn"
      },
      "outputs": [],
      "source": [
        "# Max Parameter 를 이용하여 chart Graph 도출\n",
        "def get_macd_max_performance(symbol, start_date_, end_date_, fee_, text) :\n",
        "    df_macd = pd.read_csv(f'./macd/{symbol}_{start_date_}_to_{end_date_}.csv',encoding='utf8', index=False)\n",
        "\n",
        "    max_series = df_macd[df_macd[text] == df_macd[text].max()].iloc[0]\n",
        "    max_buy = max_series['buy_param']\n",
        "    max_sell = max_series['sell_param']\n",
        "\n",
        "    print(f\"### {symbol}'s Parameter of max({text})\")\n",
        "    print(f\"{max_series}\")\n",
        "\n",
        "    df = fs.get_price(symbol, start_date=start_date_, end_date=end_date_)\n",
        "    # df = pd.read_csv(f\"get_price_{symbol}_{start_date_}_to_{end_date_}.csv\", encoding=\"utf8\", index_col=0, parse_dates=True)\n",
        "\n",
        "    # macd\n",
        "    fs.macd(df)\n",
        "    fs.draw_chart(df, right=['macd','macd_signal','macd_oscillator'])\n",
        "    # 파일로 저장\n",
        "    plt.savefig(f\"./macd/{symbol}_{text}_price_chart.png\", dpi=300, bbox_inches=\"tight\")\n",
        "    # 리소스 해제\n",
        "    plt.close()\n",
        "\n",
        "    fs.indicator_to_signal(df, factor='macd_oscillator', buy=max_buy, sell=max_sell)\n",
        "\n",
        "    # Calc position\n",
        "    fs.position(df)\n",
        "    fs.draw_chart(df, right='position_chart', left='macd_oscillator')\n",
        "    # 파일로 저장\n",
        "    plt.savefig(f\"./macd/{symbol}_{text}_position_chart.png\", dpi=300, bbox_inches=\"tight\")\n",
        "    # 리소스 해제\n",
        "    plt.close()\n",
        "\n",
        "\n",
        "    # Evalution\n",
        "    fs.evaluate(df, cost=fee_)\n",
        "    fs.performance(df, rf_rate=0.02)\n",
        "    fs.draw_trade_results(df)\n",
        "    # 파일로 저장\n",
        "    plt.savefig(f\"./macd/{symbol}_{text}_trade_result_chart.png\", dpi=300, bbox_inches=\"tight\")\n",
        "    # 리소스 해제\n",
        "    plt.close()"
      ]
    },
    {
      "cell_type": "code",
      "execution_count": null,
      "metadata": {
        "id": "EaO_sGN-gscf"
      },
      "outputs": [],
      "source": [
        "# Max Parameter 를 이용하여 chart Graph 도출\n",
        "def get_stochastic_max_performance(symbol, start_date_, end_date_, fee_, text) :\n",
        "    df_sto = pd.read_csv(f'./stochastic/{symbol}_{start_date_}_to_{end_date_}.csv',encoding='utf8', index=False)\n",
        "\n",
        "    max_series = df_sto[df_sto[text] == df_sto[text].max()].iloc[0]\n",
        "    max_factor = max_series['factor']\n",
        "    max_buy = max_series['buy_param']\n",
        "    max_sell = max_series['sell_param']\n",
        "\n",
        "    print(f\"### {symbol}'s Parameter of max({text})\")\n",
        "    print(f\"{max_series}\")\n",
        "\n",
        "    df = fs.get_ohlc(symbol, start_date=start_date_, end_date=end_date_)\n",
        "    # df = pd.read_csv(f\"get_ohlc_{symbol}_{start_date_}_to_{end_date_}.csv\", encoding=\"utf8\", index_col=0, parse_dates=True)\n",
        "\n",
        "    # stochastic\n",
        "    fs.stochastic(df, symbol, n=14, m=3, t=3)\n",
        "    df['indicator'] = df['slow_k'] - df['slow_d']\n",
        "    fs.draw_chart(df, left=max_factor, right=symbol)\n",
        "    # 파일로 저장\n",
        "    plt.savefig(f\"./stochastic/{symbol}_{text}_price_chart.png\", dpi=300, bbox_inches=\"tight\")\n",
        "    # 리소스 해제\n",
        "    plt.close()\n",
        "\n",
        "    fs.indicator_to_signal(df, factor=max_factor, buy=max_buy, sell=max_sell)\n",
        "\n",
        "    # Calc position\n",
        "    fs.position(df)\n",
        "    fs.draw_chart(df, right='position_chart', left='slow_k')\n",
        "    # # 파일로 저장\n",
        "    plt.savefig(f\"./stochastic/{symbol}_{text}_position_chart.png\", dpi=300, bbox_inches=\"tight\")\n",
        "    # # 리소스 해제\n",
        "    # plt.close()\n",
        "\n",
        "\n",
        "    # Evalution\n",
        "    fs.evaluate(df, cost=fee_)\n",
        "    fs.performance(df, rf_rate=0.02)\n",
        "    fs.draw_trade_results(df)\n",
        "    # 파일로 저장\n",
        "    plt.savefig(f\"./stochastic/{symbol}_{text}_trade_result_chart.png\", dpi=300, bbox_inches=\"tight\")\n",
        "    # 리소스 해제\n",
        "    plt.close()"
      ]
    },
    {
      "cell_type": "code",
      "execution_count": null,
      "metadata": {
        "id": "hH400DG5ib-w"
      },
      "outputs": [],
      "source": [
        "cols = ['CAGR','Sharpe ratio']\n",
        "\n",
        "for symbol in symbol_list :\n",
        "    for col in cols :\n",
        "        get_rsi_max_performance(symbol, start_date_, end_date_, fee_, col)\n",
        "        get_macd_max_performance(symbol, start_date_, end_date_, fee_, col)\n",
        "        get_stochastic_max_performance(symbol, start_date_, end_date_, fee_, col)"
      ]
    }
  ],
  "metadata": {
    "colab": {
      "provenance": []
    },
    "kernelspec": {
      "display_name": "Python 3",
      "name": "python3"
    },
    "language_info": {
      "codemirror_mode": {
        "name": "ipython",
        "version": 3
      },
      "file_extension": ".py",
      "mimetype": "text/x-python",
      "name": "python",
      "nbconvert_exporter": "python",
      "pygments_lexer": "ipython3",
      "version": "3.13.5"
    }
  },
  "nbformat": 4,
  "nbformat_minor": 0
}
